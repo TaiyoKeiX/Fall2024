{
 "cells": [
  {
   "cell_type": "markdown",
   "metadata": {
    "id": "89_G5p6d3Eb7"
   },
   "source": [
    "# HW3: Classification\n",
    "\n",
    "Please complete this notebook by filling in the cells provided. Before you begin, execute the following cell to load required modules. Each time you start your server, you will need to execute this cell again to load the modules.\n",
    "\n",
    "\n",
    "We will work with two datasets\n",
    "1. Sensors - This dataset classifies if a room is occupied or not based on sensor readings https://archive.ics.uci.edu/dataset/357/occupancy+detection\n",
    "2. FMNIST - This dataset classifies 10 types of images of clothing https://github.com/zalandoresearch/fashion-mnist"
   ]
  },
  {
   "cell_type": "code",
   "execution_count": 1,
   "metadata": {
    "id": "hOmI8RA2t19n"
   },
   "outputs": [],
   "source": [
    "import numpy as np # type: ignore # linear algebra\n",
    "import pandas as pd # data processing, CSV file I/O (e.g. pd.read_csv)\n",
    "\n",
    "import matplotlib.pyplot as plt\n",
    "%matplotlib inline\n",
    "import warnings\n",
    "warnings.filterwarnings('ignore')\n",
    "\n",
    "from sklearn import metrics\n",
    "from sklearn.model_selection import train_test_split\n",
    "from sklearn.linear_model import LogisticRegression\n",
    "from sklearn.calibration import calibration_curve\n",
    "from sklearn.discriminant_analysis import LinearDiscriminantAnalysis as LDA\n",
    "from sklearn.discriminant_analysis import QuadraticDiscriminantAnalysis as QDA\n",
    "from sklearn.naive_bayes import GaussianNB\n",
    "from sklearn.metrics import roc_curve, roc_auc_score"
   ]
  },
  {
   "cell_type": "code",
   "execution_count": 2,
   "metadata": {
    "id": "cjcg0q9NyJjT"
   },
   "outputs": [],
   "source": [
    "from sklearn.preprocessing import OneHotEncoder\n",
    "def brier_score(targets, probs):\n",
    "  enc = OneHotEncoder()\n",
    "  target_enc = enc.fit_transform(np.array(targets).reshape(-1, 1)).toarray()\n",
    "  return np.mean(np.sum((probs - target_enc)**2, axis=1))\n",
    "\n",
    "def log_score(targets, probs):\n",
    "  enc = OneHotEncoder()\n",
    "  target_enc = enc.fit_transform(np.array(targets).reshape(-1, 1)).toarray()\n",
    "  return -np.mean(np.sum(target_enc * np.log(probs + 1e-32), axis=1))"
   ]
  },
  {
   "cell_type": "markdown",
   "metadata": {
    "id": "jcSDfdR6e_rI"
   },
   "source": [
    "# Question 1 -- Room Occupancy\n",
    "\n",
    "Suppose you're an engineer working on smart home devices, such as a thermostat that only turns on the heat when a room is occupied.\n",
    "\n",
    "You need to know when a room is occupied so you devise the following system:\n",
    "1. Each customer will purchase (from you) four sensors which they place around the room.\n",
    "2. Each sensor is high quality and measures the ambient temperature, lighting, and sound level of the room with high precision\n",
    "3. Based on these sensors readings you want to design a model that will predict if the room is occupied or not.\n",
    "\n",
    "You test out these sensors and gather the following data\n",
    "1. temp, light, and sound measurements from each sensor\n",
    "2. whether the room is occupied or not\n",
    "\n",
    "\n"
   ]
  },
  {
   "cell_type": "code",
   "execution_count": 3,
   "metadata": {
    "colab": {
     "base_uri": "https://localhost:8080/",
     "height": 270
    },
    "executionInfo": {
     "elapsed": 977,
     "status": "ok",
     "timestamp": 1667093449663,
     "user": {
      "displayName": "Trevor Harris",
      "userId": "06642853091214873110"
     },
     "user_tz": 300
    },
    "id": "HLXsbo7OuGeo",
    "outputId": "ca8c7f45-b35b-4090-e470-583eabecaef2"
   },
   "outputs": [
    {
     "data": {
      "text/html": [
       "<div>\n",
       "<style scoped>\n",
       "    .dataframe tbody tr th:only-of-type {\n",
       "        vertical-align: middle;\n",
       "    }\n",
       "\n",
       "    .dataframe tbody tr th {\n",
       "        vertical-align: top;\n",
       "    }\n",
       "\n",
       "    .dataframe thead th {\n",
       "        text-align: right;\n",
       "    }\n",
       "</style>\n",
       "<table border=\"1\" class=\"dataframe\">\n",
       "  <thead>\n",
       "    <tr style=\"text-align: right;\">\n",
       "      <th></th>\n",
       "      <th>S1_Temp</th>\n",
       "      <th>S2_Temp</th>\n",
       "      <th>S3_Temp</th>\n",
       "      <th>S4_Temp</th>\n",
       "      <th>S1_Light</th>\n",
       "      <th>S2_Light</th>\n",
       "      <th>S3_Light</th>\n",
       "      <th>S4_Light</th>\n",
       "      <th>S1_Sound</th>\n",
       "      <th>S2_Sound</th>\n",
       "      <th>S3_Sound</th>\n",
       "      <th>S4_Sound</th>\n",
       "      <th>occupied</th>\n",
       "    </tr>\n",
       "  </thead>\n",
       "  <tbody>\n",
       "    <tr>\n",
       "      <th>0</th>\n",
       "      <td>24</td>\n",
       "      <td>24</td>\n",
       "      <td>24</td>\n",
       "      <td>25</td>\n",
       "      <td>121</td>\n",
       "      <td>34</td>\n",
       "      <td>53</td>\n",
       "      <td>40</td>\n",
       "      <td>0</td>\n",
       "      <td>0</td>\n",
       "      <td>0</td>\n",
       "      <td>0</td>\n",
       "      <td>1</td>\n",
       "    </tr>\n",
       "    <tr>\n",
       "      <th>1</th>\n",
       "      <td>24</td>\n",
       "      <td>24</td>\n",
       "      <td>24</td>\n",
       "      <td>25</td>\n",
       "      <td>121</td>\n",
       "      <td>33</td>\n",
       "      <td>53</td>\n",
       "      <td>40</td>\n",
       "      <td>0</td>\n",
       "      <td>0</td>\n",
       "      <td>0</td>\n",
       "      <td>0</td>\n",
       "      <td>1</td>\n",
       "    </tr>\n",
       "    <tr>\n",
       "      <th>2</th>\n",
       "      <td>25</td>\n",
       "      <td>24</td>\n",
       "      <td>24</td>\n",
       "      <td>25</td>\n",
       "      <td>121</td>\n",
       "      <td>34</td>\n",
       "      <td>53</td>\n",
       "      <td>40</td>\n",
       "      <td>0</td>\n",
       "      <td>0</td>\n",
       "      <td>0</td>\n",
       "      <td>0</td>\n",
       "      <td>1</td>\n",
       "    </tr>\n",
       "    <tr>\n",
       "      <th>3</th>\n",
       "      <td>25</td>\n",
       "      <td>24</td>\n",
       "      <td>24</td>\n",
       "      <td>25</td>\n",
       "      <td>121</td>\n",
       "      <td>34</td>\n",
       "      <td>53</td>\n",
       "      <td>40</td>\n",
       "      <td>0</td>\n",
       "      <td>0</td>\n",
       "      <td>0</td>\n",
       "      <td>0</td>\n",
       "      <td>1</td>\n",
       "    </tr>\n",
       "    <tr>\n",
       "      <th>4</th>\n",
       "      <td>25</td>\n",
       "      <td>24</td>\n",
       "      <td>24</td>\n",
       "      <td>25</td>\n",
       "      <td>121</td>\n",
       "      <td>34</td>\n",
       "      <td>54</td>\n",
       "      <td>40</td>\n",
       "      <td>0</td>\n",
       "      <td>0</td>\n",
       "      <td>0</td>\n",
       "      <td>0</td>\n",
       "      <td>1</td>\n",
       "    </tr>\n",
       "  </tbody>\n",
       "</table>\n",
       "</div>"
      ],
      "text/plain": [
       "   S1_Temp  S2_Temp  S3_Temp  S4_Temp  S1_Light  S2_Light  S3_Light  S4_Light  \\\n",
       "0       24       24       24       25       121        34        53        40   \n",
       "1       24       24       24       25       121        33        53        40   \n",
       "2       25       24       24       25       121        34        53        40   \n",
       "3       25       24       24       25       121        34        53        40   \n",
       "4       25       24       24       25       121        34        54        40   \n",
       "\n",
       "   S1_Sound  S2_Sound  S3_Sound  S4_Sound  occupied  \n",
       "0         0         0         0         0         1  \n",
       "1         0         0         0         0         1  \n",
       "2         0         0         0         0         1  \n",
       "3         0         0         0         0         1  \n",
       "4         0         0         0         0         1  "
      ]
     },
     "execution_count": 3,
     "metadata": {},
     "output_type": "execute_result"
    }
   ],
   "source": [
    "url = 'https://archive.ics.uci.edu/ml/machine-learning-databases/00640/Occupancy_Estimation.csv'\n",
    "occ = pd.read_csv(url).drop(['Date', 'Time', 'S5_CO2', 'S5_CO2_Slope', 'S6_PIR', 'S7_PIR'], axis = 1)\n",
    "occ['occupied'] = 1.0*(occ['Room_Occupancy_Count'] != 0)\n",
    "occ  = occ.drop(['Room_Occupancy_Count'], axis = 1).astype(int)\n",
    "occ.head()"
   ]
  },
  {
   "cell_type": "markdown",
   "metadata": {
    "id": "iXLe9wpShFhX"
   },
   "source": [
    "# part 1.a\n",
    "\n",
    "First split the data into a feature array `x` and label array `y`\n",
    "- `x` should contain all sensor readings\n",
    "- `y` should be only the occupied column\n",
    "\n",
    "Second split the data into training and testing data with a test size of 33% using random state 42 to get the usual `x_train, x_test, y_train, y_test` datasets"
   ]
  },
  {
   "cell_type": "code",
   "execution_count": 4,
   "metadata": {
    "id": "w9-dSdmmvCX9"
   },
   "outputs": [],
   "source": [
    "# make x and y\n",
    "\n",
    "# split intro train and test"
   ]
  },
  {
   "cell_type": "markdown",
   "metadata": {
    "id": "q8t0JjKIhdrG"
   },
   "source": [
    "# part 1.b\n",
    "\n",
    "Train Logistic regression, LDA, and QDA classifiers.\n",
    "\n",
    "1. Compute the Brier score and Log score for each method on the test dataset\n",
    "2. Which model has better Brier score? Which has better log score?"
   ]
  },
  {
   "cell_type": "code",
   "execution_count": 5,
   "metadata": {
    "id": "1v7XJb1XuT-b"
   },
   "outputs": [],
   "source": [
    "# fit models"
   ]
  },
  {
   "cell_type": "code",
   "execution_count": 6,
   "metadata": {
    "id": "uniq9SX7wCm2"
   },
   "outputs": [],
   "source": [
    "# predict probabilities\n",
    "\n",
    "# predict labels"
   ]
  },
  {
   "cell_type": "code",
   "execution_count": 7,
   "metadata": {
    "colab": {
     "base_uri": "https://localhost:8080/"
    },
    "executionInfo": {
     "elapsed": 220,
     "status": "ok",
     "timestamp": 1667247134574,
     "user": {
      "displayName": "Trevor Harris",
      "userId": "06642853091214873110"
     },
     "user_tz": 300
    },
    "id": "VR-Xg3SJyAzV",
    "outputId": "c6be223f-45c9-4958-cef4-60a379f2a7a6"
   },
   "outputs": [
    {
     "name": "stdout",
     "output_type": "stream",
     "text": [
      "Brier score\n",
      "\n"
     ]
    }
   ],
   "source": [
    "print('Brier score')\n",
    "print('')"
   ]
  },
  {
   "cell_type": "code",
   "execution_count": 8,
   "metadata": {
    "colab": {
     "base_uri": "https://localhost:8080/"
    },
    "executionInfo": {
     "elapsed": 200,
     "status": "ok",
     "timestamp": 1667247138395,
     "user": {
      "displayName": "Trevor Harris",
      "userId": "06642853091214873110"
     },
     "user_tz": 300
    },
    "id": "yeuDz_8Px7kf",
    "outputId": "0bc8dae7-90fc-4ea5-f3ef-e4555f535342"
   },
   "outputs": [
    {
     "name": "stdout",
     "output_type": "stream",
     "text": [
      "Log score\n",
      "\n"
     ]
    }
   ],
   "source": [
    "print('Log score')\n",
    "print('')"
   ]
  },
  {
   "cell_type": "markdown",
   "metadata": {
    "id": "wM-vebM1rHIL"
   },
   "source": [
    "Which model is better? Enter text here."
   ]
  },
  {
   "cell_type": "markdown",
   "metadata": {
    "id": "iDmO61p8h4iE"
   },
   "source": [
    "# part 1.c\n",
    "\n",
    "Compute the precision, recall, and F1 score of each method for each target category (1 and 0).\n",
    "\n",
    "1. Summarize these metrics in tables (one for each model)\n",
    "2. Which model has the highest average F1 score?"
   ]
  },
  {
   "cell_type": "code",
   "execution_count": null,
   "metadata": {
    "id": "KgBUA-TviSU-"
   },
   "outputs": [],
   "source": []
  },
  {
   "cell_type": "markdown",
   "metadata": {
    "id": "QZmo2f7vrNQK"
   },
   "source": [
    "Which model is better? Enter text here."
   ]
  },
  {
   "cell_type": "markdown",
   "metadata": {
    "id": "XrTUXRbGid-1"
   },
   "source": [
    "# part 1.d\n",
    "\n",
    "Now lets look at the tradeoff between sensitivity and specificty. Create a ROC curve for each model and display them in a single plot.\n",
    "\n",
    "1. Which model has a higher AUC?\n",
    "2. Are these models close to perfect?"
   ]
  },
  {
   "cell_type": "code",
   "execution_count": 9,
   "metadata": {
    "id": "tekZrYrdv9In"
   },
   "outputs": [],
   "source": [
    "# compute roc curves for each method. Store fpr, tpr, and thresholds"
   ]
  },
  {
   "cell_type": "code",
   "execution_count": 10,
   "metadata": {
    "id": "drV-_OwRviMD"
   },
   "outputs": [
    {
     "data": {
      "text/plain": [
       "<Figure size 900x600 with 0 Axes>"
      ]
     },
     "metadata": {},
     "output_type": "display_data"
    }
   ],
   "source": [
    "# plt each roc curve on the same figure\n",
    "plt.figure(figsize = (9, 6))\n",
    "\n",
    "plt.show()"
   ]
  },
  {
   "cell_type": "markdown",
   "metadata": {
    "id": "JgImfcp_i2QG"
   },
   "source": [
    "# part 1.e\n",
    "\n",
    "Create a calibration curve for each model with at least 20 bins using quantile binning.\n",
    "\n",
    "1. Plot and label the calibration curves. Include a line to represent perfect calibration.\n",
    "2. Which model is the most calibrated?\n"
   ]
  },
  {
   "cell_type": "code",
   "execution_count": 11,
   "metadata": {
    "id": "HOw1dOlExgvL"
   },
   "outputs": [],
   "source": [
    "# compute calibration curves for each model"
   ]
  },
  {
   "cell_type": "code",
   "execution_count": 12,
   "metadata": {
    "id": "QV6g3B4oxxY7"
   },
   "outputs": [
    {
     "data": {
      "text/plain": [
       "<Figure size 1000x600 with 0 Axes>"
      ]
     },
     "metadata": {},
     "output_type": "display_data"
    }
   ],
   "source": [
    "# plot each calibration curve on the same figure\n",
    "plt.figure(figsize = (10, 6))\n",
    "\n",
    "plt.show()"
   ]
  },
  {
   "cell_type": "markdown",
   "metadata": {
    "id": "8wqDEtDwI3yK"
   },
   "source": [
    "# part 1.f\n",
    "\n",
    "You find that the system works!\n",
    "\n",
    "\n",
    "The only thing is these sensors are kind of expensive. Perhaps we can get similar performance with less sensors? That way the whole system will be cheaper and perhaps more people will buy it.\n",
    "\n",
    "Test each sensor individually (using all three measurements) to see if you can build a classifier that is nearly as good as a classifier that uses all sensors.\n",
    "\n",
    "\n",
    "1. Refit each model using only the data from a single sensor. For example if you want to use only sensor 1's data then only inlcude `['S1_Temp', 'S1_Light', 'S1_Sound']` as features. Save the Brier and log score for each model and each sensor. Print as a table so that I can tell what the brier and log score are for each model using each sensor.\n",
    "1. Which sensor is best? Does it depend on the chosen model (Naive Bayes, LDA, QDA, vs Logistic Regression)?\n",
    "2. How much does using the best sensor increase the Brier / log score and decrease the F1 score compared to using all sensors simultaneously?\n",
    "\n"
   ]
  },
  {
   "cell_type": "code",
   "execution_count": 13,
   "metadata": {
    "id": "Nie9WdvSEf4s"
   },
   "outputs": [],
   "source": [
    "# example using only sensor 1. You need to repeat for each sensor.\n",
    "x = occ.loc[:, ['S1_Temp', 'S1_Light', 'S1_Sound']]\n",
    "y = occ.loc[:,['occupied']]\n",
    "\n",
    "x_train, x_test, y_train, y_test = train_test_split(x, y, test_size=0.33, random_state=42)"
   ]
  },
  {
   "cell_type": "code",
   "execution_count": 14,
   "metadata": {
    "id": "hEJh5fgUEf7f"
   },
   "outputs": [],
   "source": [
    "# fit each model and save the brier and log scores\n"
   ]
  },
  {
   "cell_type": "code",
   "execution_count": 15,
   "metadata": {
    "id": "mXhqxK1Es40S"
   },
   "outputs": [],
   "source": [
    "# Print out brier and log scores as a table for each model.\n",
    "# Consider stuffing your results into a pandas dataframe and print that.\n",
    "# make sure everything is labeled"
   ]
  },
  {
   "cell_type": "markdown",
   "metadata": {
    "id": "MzWlOl4aI6fY"
   },
   "source": [
    "# part 1.g\n",
    "\n",
    "Regardless of your findings above, suppose sensor 1 is the only one available due to supply chain issues.\n",
    "\n",
    "You wonder if all three measurements are even necessary. Using sensor 1, see if any of the measurements (Temp, Light, or Sound) can be dropped from the model without significantly deteriorating performance. Significant deterioration is defined as an increase in test Brier of 5%.\n",
    "\n",
    "\n",
    "1. Can you achieve a Brier score (on test), using only 1 or 2 variables,  that is within 5% of the Brier score of the model using all 3?\n",
    "2. Which variables are they?"
   ]
  },
  {
   "cell_type": "code",
   "execution_count": 16,
   "metadata": {
    "id": "4rGrFSzIIA2S"
   },
   "outputs": [],
   "source": [
    "# find the smallest set of features that can be retained. Example using only temperature and sound\n",
    "x = occ.loc[:, ['S1_Temp', 'S1_Sound']]\n",
    "y = occ.loc[:,['occupied']]\n",
    "\n",
    "x_train, x_test, y_train, y_test = train_test_split(x, y, test_size=0.33, random_state=42)"
   ]
  },
  {
   "cell_type": "code",
   "execution_count": 17,
   "metadata": {
    "id": "YZWJHGNmlH2_"
   },
   "outputs": [],
   "source": [
    "# Fit the models and compute the Brier scores"
   ]
  },
  {
   "cell_type": "markdown",
   "metadata": {
    "id": "it-cEQKgbaoy"
   },
   "source": [
    "# part 1.h\n",
    "\n",
    "Now were going even cheaper -- noisy instruments\n",
    "\n",
    "Your boss says she knows this great factory that produces much cheaper sensors that are \"just as good\". You go on their website and find that that isnt quite true. It turns out\n",
    "\n",
    "- They only make sensor 1\n",
    "- They can't measure sound, but they can measure light and temp.\n",
    "- They produce noisy readings.\n",
    "\n",
    "\n",
    "Thankfully you can customize your order by how (cheap) noisy the sensor readings. Sensors that cost more have less noise. Sensors that cost less have more noise.\n",
    "\n",
    "In the code below the `scale` variable determines how noisy (cheap) your sensor is. (Do not modify the rest of this code).\n",
    "\n",
    "You want to order as cheaply as possible without compromising on quality, so you want to figure out how high you can set the `scale` value.\n",
    "\n",
    "1. Increase the `scale` parameter until your test Brier score is just under 0.05 and precision of the positive class is still at least 0.98.\n",
    "2. What is the highest `scale` value to the nearest 0.1 that achieves this?\n"
   ]
  },
  {
   "cell_type": "code",
   "execution_count": 18,
   "metadata": {
    "id": "2kwV68OUbhzI"
   },
   "outputs": [],
   "source": [
    "# Use temp and light since they're available\n",
    "x = np.array(occ.loc[:, ['S1_Temp', 'S1_Light']])\n",
    "\n",
    "### noisy instruments (reduces signal strength by 4 and adds white noise)\n",
    "np.random.seed(0)\n",
    "scale = 0.0\n",
    "x = x / 4 + np.random.normal(scale = scale, size = x.shape)\n",
    "\n",
    "# occ['occupied'] = occ['Room_Occupancy_Count']\n",
    "y = occ.loc[:,['occupied']]\n",
    "\n",
    "x_train, x_test, y_train, y_test = train_test_split(x, y, test_size=0.33, random_state=42)"
   ]
  },
  {
   "cell_type": "code",
   "execution_count": 19,
   "metadata": {
    "id": "Jy9aNT29briR"
   },
   "outputs": [],
   "source": [
    "# fit the models\n",
    "# Compute Brier scores\n",
    "# Compute precision"
   ]
  },
  {
   "cell_type": "markdown",
   "metadata": {
    "id": "pENQE5XLnUWy"
   },
   "source": [
    "# Question 2. Classifying images\n",
    "\n",
    "Now we work for a clothing company and we want to identify images of different kinds of shoes. Specifically, given an image of either \"Sandals\", \"Sneakers\", and \"Ankle Boots\" we want to label the image correctly.\n",
    "\n",
    "We go down to the IT department and ask the IT guy for some data. He grumbles and briefly pauses _Hunter x Hunter_ to send us \"some data\". It turns out he sent us a lot more than we asked for. We receive a dataset of 60000 images containing \"Sandals\", \"Sneakers\", and \"Ankle Boots\" but also 7 other kinds of images.\n",
    "\n",
    "Use the following code to download the data. If you are on google colab you will not need to install any new packages and you can just run the code. If you are not on google colab then install the following packages with\n",
    "\n",
    "`pip3 install torch torchvision torchaudio`\n",
    "\n",
    "and then run the code."
   ]
  },
  {
   "cell_type": "code",
   "execution_count": 20,
   "metadata": {
    "id": "ItguwXTBcNJn"
   },
   "outputs": [],
   "source": [
    "import torch\n",
    "from torch.utils.data import Dataset\n",
    "from torchvision import datasets\n",
    "from torchvision.transforms import ToTensor\n",
    "\n",
    "from tqdm.notebook import tqdm\n",
    "from tqdm.notebook import trange"
   ]
  },
  {
   "cell_type": "code",
   "execution_count": 21,
   "metadata": {
    "colab": {
     "base_uri": "https://localhost:8080/",
     "height": 437,
     "referenced_widgets": [
      "11c9715c47d7494aad52e121a85858f5",
      "67b17494d84e4998a264dc973ce29455",
      "b453a95877414fd2a8f00e563058b4c1",
      "f8afd7b44e534373a89dcfa065212145",
      "03c043ef8a1e4678baa002bafd4c8419",
      "42b8c11f65384ca3a44f2280d8b5e2ce",
      "adacdc096ccf45cfb6eada6d208a3282",
      "3bccd23f1d0f4c32a635e1c360000535",
      "4becc50f9de24da7a8b7d8486df46418",
      "fddda2288fc34c77a04e60ac1e34f1e0",
      "98b071f6b0e84c1cabeec371120720f6",
      "26eaa9a07a5c42718d54e53ab6b8eb87",
      "6b3d2685fa2e47b9a6b7fe44448bc3ff",
      "8d1e0bbe0e1e4c64978a5e8910ba67a6",
      "067fbb71cc974674a65561d887d89395",
      "02a22776e5e841eba99fb02d8485f343",
      "bc69c1782e124cd78c6d2b5b56d24e68",
      "9e3ca86bce9648ef853129aecdab15d7",
      "5298d3a6073d423886be780723ead948",
      "0c088efe8f6846ecb6e743e884cb5dfa",
      "cf3a4465740549038ab87d215e813b78",
      "86c71985945f45d7a9e93dc409dcdb40",
      "adafb737cd5246b6872d50853ab0fc30",
      "e78f550ad3e845ed94803ff49492218c",
      "45b5acfc904e45e883c6df03696bb3ab",
      "303f6df767d845e58484951567c03ea6",
      "eb7318905d3f4f04befd601e5abd9490",
      "6334145d6fdb490b98e4b6245de4f3ff",
      "0a6801af3ab04282a76fcf8f98f30471",
      "06d6ea4b868b4790a2fa24417fe4f23f",
      "5e99ca29739444eeaf51a6f9a924db45",
      "61c9be0a93984e4bb7e9e8c70404d159",
      "23091b7ed5214bf1aab49506b24a36f2",
      "3c3016bc30d54e9ba126874239ab9182",
      "ee59f51f371a47069bfd9c06a2b817c2",
      "f71bec15ad0f4c2ea71d3eca22ed2296",
      "e293c1806f7f4e2ba99e920637254045",
      "a6574f9f50e345b6b3123e4a7a28328a",
      "0de3f2b64b264b13acd8184e68bc99e6",
      "b9c59b0ebaec429da61b3a1335011120",
      "8de03bc6811a4eb8b52bef54a121c075",
      "c7928b7dbb254732b63f37e5e727bf4e",
      "ffb8eb42937144d7af0961996c2e2ed8",
      "e52800dc9c8d4efa856ed48e0c7bdd9c"
     ]
    },
    "executionInfo": {
     "elapsed": 7491,
     "status": "ok",
     "timestamp": 1667242377600,
     "user": {
      "displayName": "Trevor Harris",
      "userId": "06642853091214873110"
     },
     "user_tz": 300
    },
    "id": "_lzDXsy1Yhh6",
    "outputId": "fb234d16-2a3f-40d6-83cf-90aeaa6486bb"
   },
   "outputs": [],
   "source": [
    "training_data = datasets.FashionMNIST(\n",
    "    root=\"data\",\n",
    "    train=True,\n",
    "    download=True,\n",
    "    transform=ToTensor()\n",
    ")"
   ]
  },
  {
   "cell_type": "markdown",
   "metadata": {
    "id": "ThypKnAGjVr9"
   },
   "source": [
    "# part 2.a\n",
    "\n",
    "After brief inspection we find that the Fashion MNIST dataset contains 9 classes\n",
    "\n",
    "Label Map\n",
    "\n",
    "0 : \"T-Shirt\"\n",
    "\n",
    "1: \"Trouser\"\n",
    "\n",
    "2: \"Pullover\"\n",
    "\n",
    "3: \"Dress\"\n",
    "\n",
    "4: \"Coat\"\n",
    "\n",
    "5: \"Sandal\"\n",
    "\n",
    "6: \"Shirt\"\n",
    "\n",
    "7: \"Sneaker\"\n",
    "\n",
    "8: \"Bag\"\n",
    "\n",
    "9: \"Ankle Boot\"\n"
   ]
  },
  {
   "cell_type": "markdown",
   "metadata": {
    "id": "33zRinGvoVls"
   },
   "source": [
    "First we need to extract out only the relevant items from the dataset. Namely those observations that correspond to \"Sandals\", \"Sneakers\", and \"Ankle Boots\" or observations where the label is 5, 7, or 9\n",
    "\n",
    "You can extract the image and label from the training_data object with `training_data[idx]` which will extract the image and label from the training dataset that corresponds to observation `idx`.\n",
    "\n",
    "See the example below that extracts observation 0"
   ]
  },
  {
   "cell_type": "code",
   "execution_count": 22,
   "metadata": {
    "id": "_u0-Zaq-Y9Tv"
   },
   "outputs": [],
   "source": [
    "idx = 0\n",
    "img, label = training_data[idx]"
   ]
  },
  {
   "cell_type": "markdown",
   "metadata": {
    "id": "aNHqL0ZHoo4r"
   },
   "source": [
    "1. Write a loop (or however you want) to pull out all observations with a 5, 7, or 9 label. Store the extracted image in `shoes` and the extracted labels in `labels`. There are 6000 images per class in this dataset."
   ]
  },
  {
   "cell_type": "code",
   "execution_count": 33,
   "metadata": {
    "id": "ftMt9WWLZOZP"
   },
   "outputs": [
    {
     "data": {
      "application/vnd.jupyter.widget-view+json": {
       "model_id": "e85a7c072dfe4791ad2d74c8388fe2af",
       "version_major": 2,
       "version_minor": 0
      },
      "text/plain": [
       "  0%|          | 0/60000 [00:00<?, ?it/s]"
      ]
     },
     "metadata": {},
     "output_type": "display_data"
    }
   ],
   "source": [
    "shoes = np.zeros((3 * 6000, 28*28))\n",
    "labels = np.zeros(3 * 6000)\n",
    "\n",
    "\n",
    "for i in trange(len(training_data)):\n",
    "  img, label = training_data[i]\n",
    "  img = img.flatten() # flattens the image into a vector\n",
    "  # store these only if label in [5, 7, 9]\n",
    "  if label in [5, 7, 9]:\n",
    "    idx = np.sum(labels != 0)  # find the next available index\n",
    "    shoes[idx] = img.numpy()\n",
    "    labels[idx] = label"
   ]
  },
  {
   "cell_type": "markdown",
   "metadata": {
    "id": "bOqiUn_UpWEx"
   },
   "source": [
    "2. Plot one observation from each class. Label the image with the name of the class. Note that the stored shoe images, e.x. `shoe[0]` is a vector and needs to be reshaped into a 28 x 28 pixel image. Use `imshow`"
   ]
  },
  {
   "cell_type": "code",
   "execution_count": null,
   "metadata": {
    "id": "tMiHB0GTy3Au"
   },
   "outputs": [
    {
     "data": {
      "image/png": "[encoded data removed]",
      "text/plain": [
       "<Figure size 1000x400 with 3 Axes>"
      ]
     },
     "metadata": {},
     "output_type": "display_data"
    }
   ],
   "source": [
    "fig, ax = plt.subplots(1, 3, constrained_layout = True, figsize = (10, 4))\n",
    "\n",
    "### print one image per ax. Example provided. Dont forget to reshape!\n",
    "class_names = {5: \"Sandal\", 7: \"Sneaker\", 9: \"Ankle Boot\"}\n",
    "for i, class_label in enumerate([5, 7, 9]):\n",
    "    idx = np.where(labels == class_label)[0][0]\n",
    "    ax[i].imshow(shoes[idx].reshape(28, 28), cmap='gray')\n",
    "    ax[i].set_title(class_names[class_label])\n",
    "    ax[i].axis('off')"
   ]
  },
  {
   "cell_type": "code",
   "execution_count": 25,
   "metadata": {
    "colab": {
     "base_uri": "https://localhost:8080/",
     "height": 280
    },
    "executionInfo": {
     "elapsed": 1482,
     "status": "ok",
     "timestamp": 1667244760320,
     "user": {
      "displayName": "Trevor Harris",
      "userId": "06642853091214873110"
     },
     "user_tz": 300
    },
    "id": "MT1E_W2wZr1_",
    "outputId": "5e717a82-bd36-47b0-fd1b-f3f9f1c99f76"
   },
   "outputs": [],
   "source": [
    "### Example plot. Do not run."
   ]
  },
  {
   "cell_type": "markdown",
   "metadata": {
    "id": "nMYV031KjTQU"
   },
   "source": [
    "# part 2.b\n",
    "\n",
    "Your boss doesnt want to pay for the computing necessary for deep learning so were going to fit some classical models and hope for the best.\n",
    "\n",
    "1. Split the data with a test_size = 0.33 and random_state 42 using the `train_test_split()` function.\n",
    "\n",
    "2. Fit LDA, QDA, and Logistic Regression to the training data."
   ]
  },
  {
   "cell_type": "code",
   "execution_count": null,
   "metadata": {
    "colab": {
     "base_uri": "https://localhost:8080/"
    },
    "executionInfo": {
     "elapsed": 16436,
     "status": "ok",
     "timestamp": 1667246003618,
     "user": {
      "displayName": "Trevor Harris",
      "userId": "06642853091214873110"
     },
     "user_tz": 300
    },
    "id": "ZnJH4CfLbL9T",
    "outputId": "3ed26f2f-d382-402b-851b-af81f2033d72"
   },
   "outputs": [
    {
     "data": {
      "text/html": [
       "<style>#sk-container-id-1 {\n",
       "  /* Definition of color scheme common for light and dark mode */\n",
       "  --sklearn-color-text: black;\n",
       "  --sklearn-color-line: gray;\n",
       "  /* Definition of color scheme for unfitted estimators */\n",
       "  --sklearn-color-unfitted-level-0: #fff5e6;\n",
       "  --sklearn-color-unfitted-level-1: #f6e4d2;\n",
       "  --sklearn-color-unfitted-level-2: #ffe0b3;\n",
       "  --sklearn-color-unfitted-level-3: chocolate;\n",
       "  /* Definition of color scheme for fitted estimators */\n",
       "  --sklearn-color-fitted-level-0: #f0f8ff;\n",
       "  --sklearn-color-fitted-level-1: #d4ebff;\n",
       "  --sklearn-color-fitted-level-2: #b3dbfd;\n",
       "  --sklearn-color-fitted-level-3: cornflowerblue;\n",
       "\n",
       "  /* Specific color for light theme */\n",
       "  --sklearn-color-text-on-default-background: var(--sg-text-color, var(--theme-code-foreground, var(--jp-content-font-color1, black)));\n",
       "  --sklearn-color-background: var(--sg-background-color, var(--theme-background, var(--jp-layout-color0, white)));\n",
       "  --sklearn-color-border-box: var(--sg-text-color, var(--theme-code-foreground, var(--jp-content-font-color1, black)));\n",
       "  --sklearn-color-icon: #696969;\n",
       "\n",
       "  @media (prefers-color-scheme: dark) {\n",
       "    /* Redefinition of color scheme for dark theme */\n",
       "    --sklearn-color-text-on-default-background: var(--sg-text-color, var(--theme-code-foreground, var(--jp-content-font-color1, white)));\n",
       "    --sklearn-color-background: var(--sg-background-color, var(--theme-background, var(--jp-layout-color0, #111)));\n",
       "    --sklearn-color-border-box: var(--sg-text-color, var(--theme-code-foreground, var(--jp-content-font-color1, white)));\n",
       "    --sklearn-color-icon: #878787;\n",
       "  }\n",
       "}\n",
       "\n",
       "#sk-container-id-1 {\n",
       "  color: var(--sklearn-color-text);\n",
       "}\n",
       "\n",
       "#sk-container-id-1 pre {\n",
       "  padding: 0;\n",
       "}\n",
       "\n",
       "#sk-container-id-1 input.sk-hidden--visually {\n",
       "  border: 0;\n",
       "  clip: rect(1px 1px 1px 1px);\n",
       "  clip: rect(1px, 1px, 1px, 1px);\n",
       "  height: 1px;\n",
       "  margin: -1px;\n",
       "  overflow: hidden;\n",
       "  padding: 0;\n",
       "  position: absolute;\n",
       "  width: 1px;\n",
       "}\n",
       "\n",
       "#sk-container-id-1 div.sk-dashed-wrapped {\n",
       "  border: 1px dashed var(--sklearn-color-line);\n",
       "  margin: 0 0.4em 0.5em 0.4em;\n",
       "  box-sizing: border-box;\n",
       "  padding-bottom: 0.4em;\n",
       "  background-color: var(--sklearn-color-background);\n",
       "}\n",
       "\n",
       "#sk-container-id-1 div.sk-container {\n",
       "  /* jupyter's `normalize.less` sets `[hidden] { display: none; }`\n",
       "     but bootstrap.min.css set `[hidden] { display: none !important; }`\n",
       "     so we also need the `!important` here to be able to override the\n",
       "     default hidden behavior on the sphinx rendered scikit-learn.org.\n",
       "     See: https://github.com/scikit-learn/scikit-learn/issues/21755 */\n",
       "  display: inline-block !important;\n",
       "  position: relative;\n",
       "}\n",
       "\n",
       "#sk-container-id-1 div.sk-text-repr-fallback {\n",
       "  display: none;\n",
       "}\n",
       "\n",
       "div.sk-parallel-item,\n",
       "div.sk-serial,\n",
       "div.sk-item {\n",
       "  /* draw centered vertical line to link estimators */\n",
       "  background-image: linear-gradient(var(--sklearn-color-text-on-default-background), var(--sklearn-color-text-on-default-background));\n",
       "  background-size: 2px 100%;\n",
       "  background-repeat: no-repeat;\n",
       "  background-position: center center;\n",
       "}\n",
       "\n",
       "/* Parallel-specific style estimator block */\n",
       "\n",
       "#sk-container-id-1 div.sk-parallel-item::after {\n",
       "  content: \"\";\n",
       "  width: 100%;\n",
       "  border-bottom: 2px solid var(--sklearn-color-text-on-default-background);\n",
       "  flex-grow: 1;\n",
       "}\n",
       "\n",
       "#sk-container-id-1 div.sk-parallel {\n",
       "  display: flex;\n",
       "  align-items: stretch;\n",
       "  justify-content: center;\n",
       "  background-color: var(--sklearn-color-background);\n",
       "  position: relative;\n",
       "}\n",
       "\n",
       "#sk-container-id-1 div.sk-parallel-item {\n",
       "  display: flex;\n",
       "  flex-direction: column;\n",
       "}\n",
       "\n",
       "#sk-container-id-1 div.sk-parallel-item:first-child::after {\n",
       "  align-self: flex-end;\n",
       "  width: 50%;\n",
       "}\n",
       "\n",
       "#sk-container-id-1 div.sk-parallel-item:last-child::after {\n",
       "  align-self: flex-start;\n",
       "  width: 50%;\n",
       "}\n",
       "\n",
       "#sk-container-id-1 div.sk-parallel-item:only-child::after {\n",
       "  width: 0;\n",
       "}\n",
       "\n",
       "/* Serial-specific style estimator block */\n",
       "\n",
       "#sk-container-id-1 div.sk-serial {\n",
       "  display: flex;\n",
       "  flex-direction: column;\n",
       "  align-items: center;\n",
       "  background-color: var(--sklearn-color-background);\n",
       "  padding-right: 1em;\n",
       "  padding-left: 1em;\n",
       "}\n",
       "\n",
       "\n",
       "/* Toggleable style: style used for estimator/Pipeline/ColumnTransformer box that is\n",
       "clickable and can be expanded/collapsed.\n",
       "- Pipeline and ColumnTransformer use this feature and define the default style\n",
       "- Estimators will overwrite some part of the style using the `sk-estimator` class\n",
       "*/\n",
       "\n",
       "/* Pipeline and ColumnTransformer style (default) */\n",
       "\n",
       "#sk-container-id-1 div.sk-toggleable {\n",
       "  /* Default theme specific background. It is overwritten whether we have a\n",
       "  specific estimator or a Pipeline/ColumnTransformer */\n",
       "  background-color: var(--sklearn-color-background);\n",
       "}\n",
       "\n",
       "/* Toggleable label */\n",
       "#sk-container-id-1 label.sk-toggleable__label {\n",
       "  cursor: pointer;\n",
       "  display: block;\n",
       "  width: 100%;\n",
       "  margin-bottom: 0;\n",
       "  padding: 0.5em;\n",
       "  box-sizing: border-box;\n",
       "  text-align: center;\n",
       "}\n",
       "\n",
       "#sk-container-id-1 label.sk-toggleable__label-arrow:before {\n",
       "  /* Arrow on the left of the label */\n",
       "  content: \"▸\";\n",
       "  float: left;\n",
       "  margin-right: 0.25em;\n",
       "  color: var(--sklearn-color-icon);\n",
       "}\n",
       "\n",
       "#sk-container-id-1 label.sk-toggleable__label-arrow:hover:before {\n",
       "  color: var(--sklearn-color-text);\n",
       "}\n",
       "\n",
       "/* Toggleable content - dropdown */\n",
       "\n",
       "#sk-container-id-1 div.sk-toggleable__content {\n",
       "  max-height: 0;\n",
       "  max-width: 0;\n",
       "  overflow: hidden;\n",
       "  text-align: left;\n",
       "  /* unfitted */\n",
       "  background-color: var(--sklearn-color-unfitted-level-0);\n",
       "}\n",
       "\n",
       "#sk-container-id-1 div.sk-toggleable__content.fitted {\n",
       "  /* fitted */\n",
       "  background-color: var(--sklearn-color-fitted-level-0);\n",
       "}\n",
       "\n",
       "#sk-container-id-1 div.sk-toggleable__content pre {\n",
       "  margin: 0.2em;\n",
       "  border-radius: 0.25em;\n",
       "  color: var(--sklearn-color-text);\n",
       "  /* unfitted */\n",
       "  background-color: var(--sklearn-color-unfitted-level-0);\n",
       "}\n",
       "\n",
       "#sk-container-id-1 div.sk-toggleable__content.fitted pre {\n",
       "  /* unfitted */\n",
       "  background-color: var(--sklearn-color-fitted-level-0);\n",
       "}\n",
       "\n",
       "#sk-container-id-1 input.sk-toggleable__control:checked~div.sk-toggleable__content {\n",
       "  /* Expand drop-down */\n",
       "  max-height: 200px;\n",
       "  max-width: 100%;\n",
       "  overflow: auto;\n",
       "}\n",
       "\n",
       "#sk-container-id-1 input.sk-toggleable__control:checked~label.sk-toggleable__label-arrow:before {\n",
       "  content: \"▾\";\n",
       "}\n",
       "\n",
       "/* Pipeline/ColumnTransformer-specific style */\n",
       "\n",
       "#sk-container-id-1 div.sk-label input.sk-toggleable__control:checked~label.sk-toggleable__label {\n",
       "  color: var(--sklearn-color-text);\n",
       "  background-color: var(--sklearn-color-unfitted-level-2);\n",
       "}\n",
       "\n",
       "#sk-container-id-1 div.sk-label.fitted input.sk-toggleable__control:checked~label.sk-toggleable__label {\n",
       "  background-color: var(--sklearn-color-fitted-level-2);\n",
       "}\n",
       "\n",
       "/* Estimator-specific style */\n",
       "\n",
       "/* Colorize estimator box */\n",
       "#sk-container-id-1 div.sk-estimator input.sk-toggleable__control:checked~label.sk-toggleable__label {\n",
       "  /* unfitted */\n",
       "  background-color: var(--sklearn-color-unfitted-level-2);\n",
       "}\n",
       "\n",
       "#sk-container-id-1 div.sk-estimator.fitted input.sk-toggleable__control:checked~label.sk-toggleable__label {\n",
       "  /* fitted */\n",
       "  background-color: var(--sklearn-color-fitted-level-2);\n",
       "}\n",
       "\n",
       "#sk-container-id-1 div.sk-label label.sk-toggleable__label,\n",
       "#sk-container-id-1 div.sk-label label {\n",
       "  /* The background is the default theme color */\n",
       "  color: var(--sklearn-color-text-on-default-background);\n",
       "}\n",
       "\n",
       "/* On hover, darken the color of the background */\n",
       "#sk-container-id-1 div.sk-label:hover label.sk-toggleable__label {\n",
       "  color: var(--sklearn-color-text);\n",
       "  background-color: var(--sklearn-color-unfitted-level-2);\n",
       "}\n",
       "\n",
       "/* Label box, darken color on hover, fitted */\n",
       "#sk-container-id-1 div.sk-label.fitted:hover label.sk-toggleable__label.fitted {\n",
       "  color: var(--sklearn-color-text);\n",
       "  background-color: var(--sklearn-color-fitted-level-2);\n",
       "}\n",
       "\n",
       "/* Estimator label */\n",
       "\n",
       "#sk-container-id-1 div.sk-label label {\n",
       "  font-family: monospace;\n",
       "  font-weight: bold;\n",
       "  display: inline-block;\n",
       "  line-height: 1.2em;\n",
       "}\n",
       "\n",
       "#sk-container-id-1 div.sk-label-container {\n",
       "  text-align: center;\n",
       "}\n",
       "\n",
       "/* Estimator-specific */\n",
       "#sk-container-id-1 div.sk-estimator {\n",
       "  font-family: monospace;\n",
       "  border: 1px dotted var(--sklearn-color-border-box);\n",
       "  border-radius: 0.25em;\n",
       "  box-sizing: border-box;\n",
       "  margin-bottom: 0.5em;\n",
       "  /* unfitted */\n",
       "  background-color: var(--sklearn-color-unfitted-level-0);\n",
       "}\n",
       "\n",
       "#sk-container-id-1 div.sk-estimator.fitted {\n",
       "  /* fitted */\n",
       "  background-color: var(--sklearn-color-fitted-level-0);\n",
       "}\n",
       "\n",
       "/* on hover */\n",
       "#sk-container-id-1 div.sk-estimator:hover {\n",
       "  /* unfitted */\n",
       "  background-color: var(--sklearn-color-unfitted-level-2);\n",
       "}\n",
       "\n",
       "#sk-container-id-1 div.sk-estimator.fitted:hover {\n",
       "  /* fitted */\n",
       "  background-color: var(--sklearn-color-fitted-level-2);\n",
       "}\n",
       "\n",
       "/* Specification for estimator info (e.g. \"i\" and \"?\") */\n",
       "\n",
       "/* Common style for \"i\" and \"?\" */\n",
       "\n",
       ".sk-estimator-doc-link,\n",
       "a:link.sk-estimator-doc-link,\n",
       "a:visited.sk-estimator-doc-link {\n",
       "  float: right;\n",
       "  font-size: smaller;\n",
       "  line-height: 1em;\n",
       "  font-family: monospace;\n",
       "  background-color: var(--sklearn-color-background);\n",
       "  border-radius: 1em;\n",
       "  height: 1em;\n",
       "  width: 1em;\n",
       "  text-decoration: none !important;\n",
       "  margin-left: 1ex;\n",
       "  /* unfitted */\n",
       "  border: var(--sklearn-color-unfitted-level-1) 1pt solid;\n",
       "  color: var(--sklearn-color-unfitted-level-1);\n",
       "}\n",
       "\n",
       ".sk-estimator-doc-link.fitted,\n",
       "a:link.sk-estimator-doc-link.fitted,\n",
       "a:visited.sk-estimator-doc-link.fitted {\n",
       "  /* fitted */\n",
       "  border: var(--sklearn-color-fitted-level-1) 1pt solid;\n",
       "  color: var(--sklearn-color-fitted-level-1);\n",
       "}\n",
       "\n",
       "/* On hover */\n",
       "div.sk-estimator:hover .sk-estimator-doc-link:hover,\n",
       ".sk-estimator-doc-link:hover,\n",
       "div.sk-label-container:hover .sk-estimator-doc-link:hover,\n",
       ".sk-estimator-doc-link:hover {\n",
       "  /* unfitted */\n",
       "  background-color: var(--sklearn-color-unfitted-level-3);\n",
       "  color: var(--sklearn-color-background);\n",
       "  text-decoration: none;\n",
       "}\n",
       "\n",
       "div.sk-estimator.fitted:hover .sk-estimator-doc-link.fitted:hover,\n",
       ".sk-estimator-doc-link.fitted:hover,\n",
       "div.sk-label-container:hover .sk-estimator-doc-link.fitted:hover,\n",
       ".sk-estimator-doc-link.fitted:hover {\n",
       "  /* fitted */\n",
       "  background-color: var(--sklearn-color-fitted-level-3);\n",
       "  color: var(--sklearn-color-background);\n",
       "  text-decoration: none;\n",
       "}\n",
       "\n",
       "/* Span, style for the box shown on hovering the info icon */\n",
       ".sk-estimator-doc-link span {\n",
       "  display: none;\n",
       "  z-index: 9999;\n",
       "  position: relative;\n",
       "  font-weight: normal;\n",
       "  right: .2ex;\n",
       "  padding: .5ex;\n",
       "  margin: .5ex;\n",
       "  width: min-content;\n",
       "  min-width: 20ex;\n",
       "  max-width: 50ex;\n",
       "  color: var(--sklearn-color-text);\n",
       "  box-shadow: 2pt 2pt 4pt #999;\n",
       "  /* unfitted */\n",
       "  background: var(--sklearn-color-unfitted-level-0);\n",
       "  border: .5pt solid var(--sklearn-color-unfitted-level-3);\n",
       "}\n",
       "\n",
       ".sk-estimator-doc-link.fitted span {\n",
       "  /* fitted */\n",
       "  background: var(--sklearn-color-fitted-level-0);\n",
       "  border: var(--sklearn-color-fitted-level-3);\n",
       "}\n",
       "\n",
       ".sk-estimator-doc-link:hover span {\n",
       "  display: block;\n",
       "}\n",
       "\n",
       "/* \"?\"-specific style due to the `<a>` HTML tag */\n",
       "\n",
       "#sk-container-id-1 a.estimator_doc_link {\n",
       "  float: right;\n",
       "  font-size: 1rem;\n",
       "  line-height: 1em;\n",
       "  font-family: monospace;\n",
       "  background-color: var(--sklearn-color-background);\n",
       "  border-radius: 1rem;\n",
       "  height: 1rem;\n",
       "  width: 1rem;\n",
       "  text-decoration: none;\n",
       "  /* unfitted */\n",
       "  color: var(--sklearn-color-unfitted-level-1);\n",
       "  border: var(--sklearn-color-unfitted-level-1) 1pt solid;\n",
       "}\n",
       "\n",
       "#sk-container-id-1 a.estimator_doc_link.fitted {\n",
       "  /* fitted */\n",
       "  border: var(--sklearn-color-fitted-level-1) 1pt solid;\n",
       "  color: var(--sklearn-color-fitted-level-1);\n",
       "}\n",
       "\n",
       "/* On hover */\n",
       "#sk-container-id-1 a.estimator_doc_link:hover {\n",
       "  /* unfitted */\n",
       "  background-color: var(--sklearn-color-unfitted-level-3);\n",
       "  color: var(--sklearn-color-background);\n",
       "  text-decoration: none;\n",
       "}\n",
       "\n",
       "#sk-container-id-1 a.estimator_doc_link.fitted:hover {\n",
       "  /* fitted */\n",
       "  background-color: var(--sklearn-color-fitted-level-3);\n",
       "}\n",
       "</style><div id=\"sk-container-id-1\" class=\"sk-top-container\"><div class=\"sk-text-repr-fallback\"><pre>LogisticRegression(max_iter=1000)</pre><b>In a Jupyter environment, please rerun this cell to show the HTML representation or trust the notebook. <br />On GitHub, the HTML representation is unable to render, please try loading this page with nbviewer.org.</b></div><div class=\"sk-container\" hidden><div class=\"sk-item\"><div class=\"sk-estimator fitted sk-toggleable\"><input class=\"sk-toggleable__control sk-hidden--visually\" id=\"sk-estimator-id-1\" type=\"checkbox\" checked><label for=\"sk-estimator-id-1\" class=\"sk-toggleable__label fitted sk-toggleable__label-arrow fitted\">&nbsp;&nbsp;LogisticRegression<a class=\"sk-estimator-doc-link fitted\" rel=\"noreferrer\" target=\"_blank\" href=\"https://scikit-learn.org/1.5/modules/generated/sklearn.linear_model.LogisticRegression.html\">?<span>Documentation for LogisticRegression</span></a><span class=\"sk-estimator-doc-link fitted\">i<span>Fitted</span></span></label><div class=\"sk-toggleable__content fitted\"><pre>LogisticRegression(max_iter=1000)</pre></div> </div></div></div></div>"
      ],
      "text/plain": [
       "LogisticRegression(max_iter=1000)"
      ]
     },
     "execution_count": 40,
     "metadata": {},
     "output_type": "execute_result"
    }
   ],
   "source": [
    "x = shoes\n",
    "y = labels\n",
    "\n",
    "x_train, x_test, y_train, y_test = train_test_split(x, y, test_size=0.33, random_state=40)\n",
    "\n",
    "# fit models\n",
    "lda = LDA()\n",
    "qda = QDA()\n",
    "log_reg = LogisticRegression(max_iter=1000)\n",
    "\n",
    "lda.fit(x_train, y_train)\n",
    "qda.fit(x_train, y_train)\n",
    "log_reg.fit(x_train, y_train)\n",
    "\n"
   ]
  },
  {
   "cell_type": "markdown",
   "metadata": {
    "id": "fP4ivMQrqnei"
   },
   "source": [
    "3. Print the training error and test error (Brier and Log).\n",
    "4. Which model has the lowest train? Lowest test? Lowest difference between train and test?"
   ]
  },
  {
   "cell_type": "code",
   "execution_count": 43,
   "metadata": {
    "id": "MjmSy9QIi6gD"
   },
   "outputs": [
    {
     "name": "stdout",
     "output_type": "stream",
     "text": [
      "Brier score\n",
      "LDA: 0.1219935373020505\n",
      "QDA: 0.7382292316260073\n",
      "Logistic Regression: 0.09555184531390712\n",
      "Log score\n",
      "LDA: 0.40021458325385756\n",
      "QDA: 26.995186743197987\n",
      "Logistic Regression: 0.18015236229224893\n"
     ]
    }
   ],
   "source": [
    "# predict probabilities\n",
    "lda_probs = lda.predict_proba(x_test)\n",
    "qda_probs = qda.predict_proba(x_test)\n",
    "log_probs = log_reg.predict_proba(x_test)\n",
    "\n",
    "# print \n",
    "print('Brier score')\n",
    "print('LDA:', brier_score(y_test, lda_probs))\n",
    "print('QDA:', brier_score(y_test, qda_probs))\n",
    "print('Logistic Regression:', brier_score(y_test, log_probs))\n",
    "\n",
    "print('Log score')\n",
    "print('LDA:', log_score(y_test, lda_probs))\n",
    "print('QDA:', log_score(y_test, qda_probs))\n",
    "print('Logistic Regression:', log_score(y_test, log_probs))\n"
   ]
  },
  {
   "cell_type": "markdown",
   "metadata": {},
   "source": [
    "```markdown\n",
    "4. Which model has the lowest train? Lowest test? Lowest difference between train and test?\n",
    "\n",
    "- **Lowest Train Error**: Logistic Regression\n",
    "- **Lowest Test Error**: Logistic Regression\n",
    "- **Lowest Difference between Train and Test Error**: Logistic Regression\n",
    "\n",
    "Logistic Regression performs the best overall in terms of both training and testing errors, as well as having the smallest difference between the two, indicating good generalization.\n",
    "```"
   ]
  },
  {
   "cell_type": "markdown",
   "metadata": {
    "id": "pPO88HzBjLyZ"
   },
   "source": [
    "# part 2.c\n",
    "\n",
    "1. Print the classification report for each method.\n",
    "2. Which method is best in terms of F1 score?"
   ]
  },
  {
   "cell_type": "code",
   "execution_count": 29,
   "metadata": {
    "id": "5pnwpYPrxuzO"
   },
   "outputs": [],
   "source": [
    "# predict labels for each model"
   ]
  },
  {
   "cell_type": "code",
   "execution_count": 45,
   "metadata": {
    "id": "66OD5J0miI64"
   },
   "outputs": [
    {
     "name": "stdout",
     "output_type": "stream",
     "text": [
      "LDA Classification Report:\n",
      "              precision    recall  f1-score   support\n",
      "\n",
      "      Sandal       0.95      0.92      0.93      2001\n",
      "     Sneaker       0.89      0.93      0.91      1994\n",
      "  Ankle Boot       0.94      0.94      0.94      1945\n",
      "\n",
      "    accuracy                           0.93      5940\n",
      "   macro avg       0.93      0.93      0.93      5940\n",
      "weighted avg       0.93      0.93      0.93      5940\n",
      "\n",
      "QDA Classification Report:\n",
      "              precision    recall  f1-score   support\n",
      "\n",
      "      Sandal       0.90      0.21      0.35      2001\n",
      "     Sneaker       0.52      0.97      0.68      1994\n",
      "  Ankle Boot       0.79      0.72      0.75      1945\n",
      "\n",
      "    accuracy                           0.63      5940\n",
      "   macro avg       0.74      0.63      0.59      5940\n",
      "weighted avg       0.74      0.63      0.59      5940\n",
      "\n",
      "Logistic Regression Classification Report:\n",
      "              precision    recall  f1-score   support\n",
      "\n",
      "      Sandal       0.94      0.93      0.94      2001\n",
      "     Sneaker       0.92      0.92      0.92      1994\n",
      "  Ankle Boot       0.94      0.95      0.94      1945\n",
      "\n",
      "    accuracy                           0.93      5940\n",
      "   macro avg       0.93      0.93      0.93      5940\n",
      "weighted avg       0.93      0.93      0.93      5940\n",
      "\n",
      "Best model in terms of F1 score: Logistic Regression with F1 score of 0.9331\n"
     ]
    }
   ],
   "source": [
    "from sklearn.metrics import classification_report\n",
    "\n",
    "# print classification report. Which is best in terms of F1?\n",
    "# predict labels for each model\n",
    "lda_pred = lda.predict(x_test)\n",
    "qda_pred = qda.predict(x_test)\n",
    "log_pred = log_reg.predict(x_test)\n",
    "\n",
    "# print classification reports\n",
    "print(\"LDA Classification Report:\")\n",
    "print(classification_report(y_test, lda_pred, target_names=[\"Sandal\", \"Sneaker\", \"Ankle Boot\"]))\n",
    "\n",
    "print(\"QDA Classification Report:\")\n",
    "print(classification_report(y_test, qda_pred, target_names=[\"Sandal\", \"Sneaker\", \"Ankle Boot\"]))\n",
    "\n",
    "print(\"Logistic Regression Classification Report:\")\n",
    "print(classification_report(y_test, log_pred, target_names=[\"Sandal\", \"Sneaker\", \"Ankle Boot\"]))\n",
    "\n",
    "# Determine which method is best in terms of F1 score\n",
    "lda_report = classification_report(y_test, lda_pred, target_names=[\"Sandal\", \"Sneaker\", \"Ankle Boot\"], output_dict=True)\n",
    "qda_report = classification_report(y_test, qda_pred, target_names=[\"Sandal\", \"Sneaker\", \"Ankle Boot\"], output_dict=True)\n",
    "log_report = classification_report(y_test, log_pred, target_names=[\"Sandal\", \"Sneaker\", \"Ankle Boot\"], output_dict=True)\n",
    "\n",
    "lda_f1 = lda_report['weighted avg']['f1-score']\n",
    "qda_f1 = qda_report['weighted avg']['f1-score']\n",
    "log_f1 = log_report['weighted avg']['f1-score']\n",
    "\n",
    "best_model = max((lda_f1, 'LDA'), (qda_f1, 'QDA'), (log_f1, 'Logistic Regression'))\n",
    "\n",
    "print(f\"Best model in terms of F1 score: {best_model[1]} with F1 score of {best_model[0]:.4f}\")"
   ]
  },
  {
   "cell_type": "markdown",
   "metadata": {
    "id": "ptF2Kiqomd8D"
   },
   "source": [
    "# part 2.d\n",
    "\n",
    "Compute and print the accuracy of each method. Which method has the highest accuracy?"
   ]
  },
  {
   "cell_type": "code",
   "execution_count": 47,
   "metadata": {
    "colab": {
     "base_uri": "https://localhost:8080/"
    },
    "executionInfo": {
     "elapsed": 10,
     "status": "ok",
     "timestamp": 1667248917074,
     "user": {
      "displayName": "Trevor Harris",
      "userId": "06642853091214873110"
     },
     "user_tz": 300
    },
    "id": "1FgxFJL8jz0Q",
    "outputId": "91d0f400-2c6d-46f3-a434-aa1e95d2ca6f"
   },
   "outputs": [
    {
     "name": "stdout",
     "output_type": "stream",
     "text": [
      "Accuracy\n",
      "LDA: 0.9271043771043771\n",
      "QDA: 0.6308080808080808\n",
      "Logistic Regression: 0.9331649831649832\n",
      "\n"
     ]
    }
   ],
   "source": [
    "print('Accuracy')\n",
    "print('LDA:', lda.score(x_test, y_test))\n",
    "print('QDA:', qda.score(x_test, y_test))\n",
    "print('Logistic Regression:', log_reg.score(x_test, y_test))\n",
    "print('')"
   ]
  },
  {
   "cell_type": "markdown",
   "metadata": {},
   "source": [
    "```markdown\n",
    "Logistic Regression has the highest accuracy.\n",
    "```"
   ]
  },
  {
   "cell_type": "markdown",
   "metadata": {
    "id": "hA48Ip0pm4RI"
   },
   "source": [
    "# part 2.e\n",
    "\n",
    "The above results are dependent on the the specific seed we set in the train test split function.\n",
    "\n",
    "How do we know the best model would still be the best if the data was split differently? Let's resplit the data a few times and determine which model is best on average.\n",
    "\n",
    "1. Refit your models using 20 different seed values in the `train_test_split` function. Use seed values 0 to 19.\n",
    "2. Recompute the test set brier score and accuracy for each seed.\n",
    "3. Print out the average Brier score and accuracy and the standard deviation of each metric.\n",
    "4. Is the best model always better than the others? Which model is best on average?\n"
   ]
  },
  {
   "cell_type": "code",
   "execution_count": 48,
   "metadata": {
    "id": "tKBUdfrVnqU6"
   },
   "outputs": [
    {
     "name": "stdout",
     "output_type": "stream",
     "text": [
      "Average Brier Scores:\n",
      "LDA: 0.1203 ± 0.0053\n",
      "QDA: 0.7551 ± 0.0198\n",
      "Logistic Regression: 0.0943 ± 0.0038\n",
      "\n",
      "Average Accuracies:\n",
      "LDA: 0.9272 ± 0.0031\n",
      "QDA: 0.6223 ± 0.0098\n",
      "Logistic Regression: 0.9381 ± 0.0028\n"
     ]
    }
   ],
   "source": [
    "seeds = np.arange(20)\n",
    "brier_scores = {'LDA': [], 'QDA': [], 'Logistic Regression': []}\n",
    "accuracies = {'LDA': [], 'QDA': [], 'Logistic Regression': []}\n",
    "\n",
    "for seed in seeds:\n",
    "    x_train, x_test, y_train, y_test = train_test_split(x, y, test_size=0.33, random_state=seed)\n",
    "    \n",
    "    lda.fit(x_train, y_train)\n",
    "    qda.fit(x_train, y_train)\n",
    "    log_reg.fit(x_train, y_train)\n",
    "    \n",
    "    lda_probs = lda.predict_proba(x_test)\n",
    "    qda_probs = qda.predict_proba(x_test)\n",
    "    log_probs = log_reg.predict_proba(x_test)\n",
    "    \n",
    "    brier_scores['LDA'].append(brier_score(y_test, lda_probs))\n",
    "    brier_scores['QDA'].append(brier_score(y_test, qda_probs))\n",
    "    brier_scores['Logistic Regression'].append(brier_score(y_test, log_probs))\n",
    "    \n",
    "    accuracies['LDA'].append(lda.score(x_test, y_test))\n",
    "    accuracies['QDA'].append(qda.score(x_test, y_test))\n",
    "    accuracies['Logistic Regression'].append(log_reg.score(x_test, y_test))\n",
    "\n",
    "print('Average Brier Scores:')\n",
    "for model in brier_scores:\n",
    "    print(f'{model}: {np.mean(brier_scores[model]):.4f} ± {np.std(brier_scores[model]):.4f}')\n",
    "\n",
    "print('\\nAverage Accuracies:')\n",
    "for model in accuracies:\n",
    "    print(f'{model}: {np.mean(accuracies[model]):.4f} ± {np.std(accuracies[model]):.4f}')"
   ]
  },
  {
   "cell_type": "markdown",
   "metadata": {
    "id": "oV_h20CQmiZA"
   },
   "source": [
    "# part 2.f\n",
    "\n",
    "Based on everything you have seen in parts a-e. Which model would you choose and why? Explain using at least 3 sentences and using the metrics you saw above."
   ]
  },
  {
   "cell_type": "markdown",
   "metadata": {
    "id": "PXs5ENe9yrk1"
   },
   "source": [
    "Enter thoughts here."
   ]
  },
  {
   "cell_type": "code",
   "execution_count": null,
   "metadata": {
    "id": "2vNRotTjyszl"
   },
   "outputs": [],
   "source": []
  }
 ],
 "metadata": {
  "colab": {
   "provenance": []
  },
  "kernelspec": {
   "display_name": "Python 3",
   "name": "python3"
  },
  "language_info": {
   "codemirror_mode": {
    "name": "ipython",
    "version": 3
   },
   "file_extension": ".py",
   "mimetype": "text/x-python",
   "name": "python",
   "nbconvert_exporter": "python",
   "pygments_lexer": "ipython3",
   "version": "3.12.5"
  },
  "widgets": {
   "application/vnd.jupyter.widget-state+json": {
    "02a22776e5e841eba99fb02d8485f343": {
     "model_module": "@jupyter-widgets/base",
     "model_module_version": "1.2.0",
     "model_name": "LayoutModel",
     "state": {
      "_model_module": "@jupyter-widgets/base",
      "_model_module_version": "1.2.0",
      "_model_name": "LayoutModel",
      "_view_count": null,
      "_view_module": "@jupyter-widgets/base",
      "_view_module_version": "1.2.0",
      "_view_name": "LayoutView",
      "align_content": null,
      "align_items": null,
      "align_self": null,
      "border": null,
      "bottom": null,
      "display": null,
      "flex": null,
      "flex_flow": null,
      "grid_area": null,
      "grid_auto_columns": null,
      "grid_auto_flow": null,
      "grid_auto_rows": null,
      "grid_column": null,
      "grid_gap": null,
      "grid_row": null,
      "grid_template_areas": null,
      "grid_template_columns": null,
      "grid_template_rows": null,
      "height": null,
      "justify_content": null,
      "justify_items": null,
      "left": null,
      "margin": null,
      "max_height": null,
      "max_width": null,
      "min_height": null,
      "min_width": null,
      "object_fit": null,
      "object_position": null,
      "order": null,
      "overflow": null,
      "overflow_x": null,
      "overflow_y": null,
      "padding": null,
      "right": null,
      "top": null,
      "visibility": null,
      "width": null
     }
    },
    "03c043ef8a1e4678baa002bafd4c8419": {
     "model_module": "@jupyter-widgets/base",
     "model_module_version": "1.2.0",
     "model_name": "LayoutModel",
     "state": {
      "_model_module": "@jupyter-widgets/base",
      "_model_module_version": "1.2.0",
      "_model_name": "LayoutModel",
      "_view_count": null,
      "_view_module": "@jupyter-widgets/base",
      "_view_module_version": "1.2.0",
      "_view_name": "LayoutView",
      "align_content": null,
      "align_items": null,
      "align_self": null,
      "border": null,
      "bottom": null,
      "display": null,
      "flex": null,
      "flex_flow": null,
      "grid_area": null,
      "grid_auto_columns": null,
      "grid_auto_flow": null,
      "grid_auto_rows": null,
      "grid_column": null,
      "grid_gap": null,
      "grid_row": null,
      "grid_template_areas": null,
      "grid_template_columns": null,
      "grid_template_rows": null,
      "height": null,
      "justify_content": null,
      "justify_items": null,
      "left": null,
      "margin": null,
      "max_height": null,
      "max_width": null,
      "min_height": null,
      "min_width": null,
      "object_fit": null,
      "object_position": null,
      "order": null,
      "overflow": null,
      "overflow_x": null,
      "overflow_y": null,
      "padding": null,
      "right": null,
      "top": null,
      "visibility": null,
      "width": null
     }
    },
    "067fbb71cc974674a65561d887d89395": {
     "model_module": "@jupyter-widgets/controls",
     "model_module_version": "1.5.0",
     "model_name": "HTMLModel",
     "state": {
      "_dom_classes": [],
      "_model_module": "@jupyter-widgets/controls",
      "_model_module_version": "1.5.0",
      "_model_name": "HTMLModel",
      "_view_count": null,
      "_view_module": "@jupyter-widgets/controls",
      "_view_module_version": "1.5.0",
      "_view_name": "HTMLView",
      "description": "",
      "description_tooltip": null,
      "layout": "IPY_MODEL_cf3a4465740549038ab87d215e813b78",
      "placeholder": "​",
      "style": "IPY_MODEL_86c71985945f45d7a9e93dc409dcdb40",
      "value": " 29515/29515 [00:00&lt;00:00, 210805.83it/s]"
     }
    },
    "06d6ea4b868b4790a2fa24417fe4f23f": {
     "model_module": "@jupyter-widgets/base",
     "model_module_version": "1.2.0",
     "model_name": "LayoutModel",
     "state": {
      "_model_module": "@jupyter-widgets/base",
      "_model_module_version": "1.2.0",
      "_model_name": "LayoutModel",
      "_view_count": null,
      "_view_module": "@jupyter-widgets/base",
      "_view_module_version": "1.2.0",
      "_view_name": "LayoutView",
      "align_content": null,
      "align_items": null,
      "align_self": null,
      "border": null,
      "bottom": null,
      "display": null,
      "flex": null,
      "flex_flow": null,
      "grid_area": null,
      "grid_auto_columns": null,
      "grid_auto_flow": null,
      "grid_auto_rows": null,
      "grid_column": null,
      "grid_gap": null,
      "grid_row": null,
      "grid_template_areas": null,
      "grid_template_columns": null,
      "grid_template_rows": null,
      "height": null,
      "justify_content": null,
      "justify_items": null,
      "left": null,
      "margin": null,
      "max_height": null,
      "max_width": null,
      "min_height": null,
      "min_width": null,
      "object_fit": null,
      "object_position": null,
      "order": null,
      "overflow": null,
      "overflow_x": null,
      "overflow_y": null,
      "padding": null,
      "right": null,
      "top": null,
      "visibility": null,
      "width": null
     }
    },
    "0a6801af3ab04282a76fcf8f98f30471": {
     "model_module": "@jupyter-widgets/controls",
     "model_module_version": "1.5.0",
     "model_name": "DescriptionStyleModel",
     "state": {
      "_model_module": "@jupyter-widgets/controls",
      "_model_module_version": "1.5.0",
      "_model_name": "DescriptionStyleModel",
      "_view_count": null,
      "_view_module": "@jupyter-widgets/base",
      "_view_module_version": "1.2.0",
      "_view_name": "StyleView",
      "description_width": ""
     }
    },
    "0c088efe8f6846ecb6e743e884cb5dfa": {
     "model_module": "@jupyter-widgets/controls",
     "model_module_version": "1.5.0",
     "model_name": "ProgressStyleModel",
     "state": {
      "_model_module": "@jupyter-widgets/controls",
      "_model_module_version": "1.5.0",
      "_model_name": "ProgressStyleModel",
      "_view_count": null,
      "_view_module": "@jupyter-widgets/base",
      "_view_module_version": "1.2.0",
      "_view_name": "StyleView",
      "bar_color": null,
      "description_width": ""
     }
    },
    "0de3f2b64b264b13acd8184e68bc99e6": {
     "model_module": "@jupyter-widgets/base",
     "model_module_version": "1.2.0",
     "model_name": "LayoutModel",
     "state": {
      "_model_module": "@jupyter-widgets/base",
      "_model_module_version": "1.2.0",
      "_model_name": "LayoutModel",
      "_view_count": null,
      "_view_module": "@jupyter-widgets/base",
      "_view_module_version": "1.2.0",
      "_view_name": "LayoutView",
      "align_content": null,
      "align_items": null,
      "align_self": null,
      "border": null,
      "bottom": null,
      "display": null,
      "flex": null,
      "flex_flow": null,
      "grid_area": null,
      "grid_auto_columns": null,
      "grid_auto_flow": null,
      "grid_auto_rows": null,
      "grid_column": null,
      "grid_gap": null,
      "grid_row": null,
      "grid_template_areas": null,
      "grid_template_columns": null,
      "grid_template_rows": null,
      "height": null,
      "justify_content": null,
      "justify_items": null,
      "left": null,
      "margin": null,
      "max_height": null,
      "max_width": null,
      "min_height": null,
      "min_width": null,
      "object_fit": null,
      "object_position": null,
      "order": null,
      "overflow": null,
      "overflow_x": null,
      "overflow_y": null,
      "padding": null,
      "right": null,
      "top": null,
      "visibility": null,
      "width": null
     }
    },
    "11c9715c47d7494aad52e121a85858f5": {
     "model_module": "@jupyter-widgets/controls",
     "model_module_version": "1.5.0",
     "model_name": "HBoxModel",
     "state": {
      "_dom_classes": [],
      "_model_module": "@jupyter-widgets/controls",
      "_model_module_version": "1.5.0",
      "_model_name": "HBoxModel",
      "_view_count": null,
      "_view_module": "@jupyter-widgets/controls",
      "_view_module_version": "1.5.0",
      "_view_name": "HBoxView",
      "box_style": "",
      "children": [
       "IPY_MODEL_67b17494d84e4998a264dc973ce29455",
       "IPY_MODEL_b453a95877414fd2a8f00e563058b4c1",
       "IPY_MODEL_f8afd7b44e534373a89dcfa065212145"
      ],
      "layout": "IPY_MODEL_03c043ef8a1e4678baa002bafd4c8419"
     }
    },
    "23091b7ed5214bf1aab49506b24a36f2": {
     "model_module": "@jupyter-widgets/controls",
     "model_module_version": "1.5.0",
     "model_name": "DescriptionStyleModel",
     "state": {
      "_model_module": "@jupyter-widgets/controls",
      "_model_module_version": "1.5.0",
      "_model_name": "DescriptionStyleModel",
      "_view_count": null,
      "_view_module": "@jupyter-widgets/base",
      "_view_module_version": "1.2.0",
      "_view_name": "StyleView",
      "description_width": ""
     }
    },
    "26eaa9a07a5c42718d54e53ab6b8eb87": {
     "model_module": "@jupyter-widgets/controls",
     "model_module_version": "1.5.0",
     "model_name": "HBoxModel",
     "state": {
      "_dom_classes": [],
      "_model_module": "@jupyter-widgets/controls",
      "_model_module_version": "1.5.0",
      "_model_name": "HBoxModel",
      "_view_count": null,
      "_view_module": "@jupyter-widgets/controls",
      "_view_module_version": "1.5.0",
      "_view_name": "HBoxView",
      "box_style": "",
      "children": [
       "IPY_MODEL_6b3d2685fa2e47b9a6b7fe44448bc3ff",
       "IPY_MODEL_8d1e0bbe0e1e4c64978a5e8910ba67a6",
       "IPY_MODEL_067fbb71cc974674a65561d887d89395"
      ],
      "layout": "IPY_MODEL_02a22776e5e841eba99fb02d8485f343"
     }
    },
    "303f6df767d845e58484951567c03ea6": {
     "model_module": "@jupyter-widgets/controls",
     "model_module_version": "1.5.0",
     "model_name": "HTMLModel",
     "state": {
      "_dom_classes": [],
      "_model_module": "@jupyter-widgets/controls",
      "_model_module_version": "1.5.0",
      "_model_name": "HTMLModel",
      "_view_count": null,
      "_view_module": "@jupyter-widgets/controls",
      "_view_module_version": "1.5.0",
      "_view_name": "HTMLView",
      "description": "",
      "description_tooltip": null,
      "layout": "IPY_MODEL_61c9be0a93984e4bb7e9e8c70404d159",
      "placeholder": "​",
      "style": "IPY_MODEL_23091b7ed5214bf1aab49506b24a36f2",
      "value": " 4422102/4422102 [00:01&lt;00:00, 6649157.36it/s]"
     }
    },
    "3bccd23f1d0f4c32a635e1c360000535": {
     "model_module": "@jupyter-widgets/base",
     "model_module_version": "1.2.0",
     "model_name": "LayoutModel",
     "state": {
      "_model_module": "@jupyter-widgets/base",
      "_model_module_version": "1.2.0",
      "_model_name": "LayoutModel",
      "_view_count": null,
      "_view_module": "@jupyter-widgets/base",
      "_view_module_version": "1.2.0",
      "_view_name": "LayoutView",
      "align_content": null,
      "align_items": null,
      "align_self": null,
      "border": null,
      "bottom": null,
      "display": null,
      "flex": null,
      "flex_flow": null,
      "grid_area": null,
      "grid_auto_columns": null,
      "grid_auto_flow": null,
      "grid_auto_rows": null,
      "grid_column": null,
      "grid_gap": null,
      "grid_row": null,
      "grid_template_areas": null,
      "grid_template_columns": null,
      "grid_template_rows": null,
      "height": null,
      "justify_content": null,
      "justify_items": null,
      "left": null,
      "margin": null,
      "max_height": null,
      "max_width": null,
      "min_height": null,
      "min_width": null,
      "object_fit": null,
      "object_position": null,
      "order": null,
      "overflow": null,
      "overflow_x": null,
      "overflow_y": null,
      "padding": null,
      "right": null,
      "top": null,
      "visibility": null,
      "width": null
     }
    },
    "3c3016bc30d54e9ba126874239ab9182": {
     "model_module": "@jupyter-widgets/controls",
     "model_module_version": "1.5.0",
     "model_name": "HBoxModel",
     "state": {
      "_dom_classes": [],
      "_model_module": "@jupyter-widgets/controls",
      "_model_module_version": "1.5.0",
      "_model_name": "HBoxModel",
      "_view_count": null,
      "_view_module": "@jupyter-widgets/controls",
      "_view_module_version": "1.5.0",
      "_view_name": "HBoxView",
      "box_style": "",
      "children": [
       "IPY_MODEL_ee59f51f371a47069bfd9c06a2b817c2",
       "IPY_MODEL_f71bec15ad0f4c2ea71d3eca22ed2296",
       "IPY_MODEL_e293c1806f7f4e2ba99e920637254045"
      ],
      "layout": "IPY_MODEL_a6574f9f50e345b6b3123e4a7a28328a"
     }
    },
    "42b8c11f65384ca3a44f2280d8b5e2ce": {
     "model_module": "@jupyter-widgets/base",
     "model_module_version": "1.2.0",
     "model_name": "LayoutModel",
     "state": {
      "_model_module": "@jupyter-widgets/base",
      "_model_module_version": "1.2.0",
      "_model_name": "LayoutModel",
      "_view_count": null,
      "_view_module": "@jupyter-widgets/base",
      "_view_module_version": "1.2.0",
      "_view_name": "LayoutView",
      "align_content": null,
      "align_items": null,
      "align_self": null,
      "border": null,
      "bottom": null,
      "display": null,
      "flex": null,
      "flex_flow": null,
      "grid_area": null,
      "grid_auto_columns": null,
      "grid_auto_flow": null,
      "grid_auto_rows": null,
      "grid_column": null,
      "grid_gap": null,
      "grid_row": null,
      "grid_template_areas": null,
      "grid_template_columns": null,
      "grid_template_rows": null,
      "height": null,
      "justify_content": null,
      "justify_items": null,
      "left": null,
      "margin": null,
      "max_height": null,
      "max_width": null,
      "min_height": null,
      "min_width": null,
      "object_fit": null,
      "object_position": null,
      "order": null,
      "overflow": null,
      "overflow_x": null,
      "overflow_y": null,
      "padding": null,
      "right": null,
      "top": null,
      "visibility": null,
      "width": null
     }
    },
    "45b5acfc904e45e883c6df03696bb3ab": {
     "model_module": "@jupyter-widgets/controls",
     "model_module_version": "1.5.0",
     "model_name": "FloatProgressModel",
     "state": {
      "_dom_classes": [],
      "_model_module": "@jupyter-widgets/controls",
      "_model_module_version": "1.5.0",
      "_model_name": "FloatProgressModel",
      "_view_count": null,
      "_view_module": "@jupyter-widgets/controls",
      "_view_module_version": "1.5.0",
      "_view_name": "ProgressView",
      "bar_style": "success",
      "description": "",
      "description_tooltip": null,
      "layout": "IPY_MODEL_06d6ea4b868b4790a2fa24417fe4f23f",
      "max": 4422102,
      "min": 0,
      "orientation": "horizontal",
      "style": "IPY_MODEL_5e99ca29739444eeaf51a6f9a924db45",
      "value": 4422102
     }
    },
    "4becc50f9de24da7a8b7d8486df46418": {
     "model_module": "@jupyter-widgets/controls",
     "model_module_version": "1.5.0",
     "model_name": "ProgressStyleModel",
     "state": {
      "_model_module": "@jupyter-widgets/controls",
      "_model_module_version": "1.5.0",
      "_model_name": "ProgressStyleModel",
      "_view_count": null,
      "_view_module": "@jupyter-widgets/base",
      "_view_module_version": "1.2.0",
      "_view_name": "StyleView",
      "bar_color": null,
      "description_width": ""
     }
    },
    "5298d3a6073d423886be780723ead948": {
     "model_module": "@jupyter-widgets/base",
     "model_module_version": "1.2.0",
     "model_name": "LayoutModel",
     "state": {
      "_model_module": "@jupyter-widgets/base",
      "_model_module_version": "1.2.0",
      "_model_name": "LayoutModel",
      "_view_count": null,
      "_view_module": "@jupyter-widgets/base",
      "_view_module_version": "1.2.0",
      "_view_name": "LayoutView",
      "align_content": null,
      "align_items": null,
      "align_self": null,
      "border": null,
      "bottom": null,
      "display": null,
      "flex": null,
      "flex_flow": null,
      "grid_area": null,
      "grid_auto_columns": null,
      "grid_auto_flow": null,
      "grid_auto_rows": null,
      "grid_column": null,
      "grid_gap": null,
      "grid_row": null,
      "grid_template_areas": null,
      "grid_template_columns": null,
      "grid_template_rows": null,
      "height": null,
      "justify_content": null,
      "justify_items": null,
      "left": null,
      "margin": null,
      "max_height": null,
      "max_width": null,
      "min_height": null,
      "min_width": null,
      "object_fit": null,
      "object_position": null,
      "order": null,
      "overflow": null,
      "overflow_x": null,
      "overflow_y": null,
      "padding": null,
      "right": null,
      "top": null,
      "visibility": null,
      "width": null
     }
    },
    "5e99ca29739444eeaf51a6f9a924db45": {
     "model_module": "@jupyter-widgets/controls",
     "model_module_version": "1.5.0",
     "model_name": "ProgressStyleModel",
     "state": {
      "_model_module": "@jupyter-widgets/controls",
      "_model_module_version": "1.5.0",
      "_model_name": "ProgressStyleModel",
      "_view_count": null,
      "_view_module": "@jupyter-widgets/base",
      "_view_module_version": "1.2.0",
      "_view_name": "StyleView",
      "bar_color": null,
      "description_width": ""
     }
    },
    "61c9be0a93984e4bb7e9e8c70404d159": {
     "model_module": "@jupyter-widgets/base",
     "model_module_version": "1.2.0",
     "model_name": "LayoutModel",
     "state": {
      "_model_module": "@jupyter-widgets/base",
      "_model_module_version": "1.2.0",
      "_model_name": "LayoutModel",
      "_view_count": null,
      "_view_module": "@jupyter-widgets/base",
      "_view_module_version": "1.2.0",
      "_view_name": "LayoutView",
      "align_content": null,
      "align_items": null,
      "align_self": null,
      "border": null,
      "bottom": null,
      "display": null,
      "flex": null,
      "flex_flow": null,
      "grid_area": null,
      "grid_auto_columns": null,
      "grid_auto_flow": null,
      "grid_auto_rows": null,
      "grid_column": null,
      "grid_gap": null,
      "grid_row": null,
      "grid_template_areas": null,
      "grid_template_columns": null,
      "grid_template_rows": null,
      "height": null,
      "justify_content": null,
      "justify_items": null,
      "left": null,
      "margin": null,
      "max_height": null,
      "max_width": null,
      "min_height": null,
      "min_width": null,
      "object_fit": null,
      "object_position": null,
      "order": null,
      "overflow": null,
      "overflow_x": null,
      "overflow_y": null,
      "padding": null,
      "right": null,
      "top": null,
      "visibility": null,
      "width": null
     }
    },
    "6334145d6fdb490b98e4b6245de4f3ff": {
     "model_module": "@jupyter-widgets/base",
     "model_module_version": "1.2.0",
     "model_name": "LayoutModel",
     "state": {
      "_model_module": "@jupyter-widgets/base",
      "_model_module_version": "1.2.0",
      "_model_name": "LayoutModel",
      "_view_count": null,
      "_view_module": "@jupyter-widgets/base",
      "_view_module_version": "1.2.0",
      "_view_name": "LayoutView",
      "align_content": null,
      "align_items": null,
      "align_self": null,
      "border": null,
      "bottom": null,
      "display": null,
      "flex": null,
      "flex_flow": null,
      "grid_area": null,
      "grid_auto_columns": null,
      "grid_auto_flow": null,
      "grid_auto_rows": null,
      "grid_column": null,
      "grid_gap": null,
      "grid_row": null,
      "grid_template_areas": null,
      "grid_template_columns": null,
      "grid_template_rows": null,
      "height": null,
      "justify_content": null,
      "justify_items": null,
      "left": null,
      "margin": null,
      "max_height": null,
      "max_width": null,
      "min_height": null,
      "min_width": null,
      "object_fit": null,
      "object_position": null,
      "order": null,
      "overflow": null,
      "overflow_x": null,
      "overflow_y": null,
      "padding": null,
      "right": null,
      "top": null,
      "visibility": null,
      "width": null
     }
    },
    "67b17494d84e4998a264dc973ce29455": {
     "model_module": "@jupyter-widgets/controls",
     "model_module_version": "1.5.0",
     "model_name": "HTMLModel",
     "state": {
      "_dom_classes": [],
      "_model_module": "@jupyter-widgets/controls",
      "_model_module_version": "1.5.0",
      "_model_name": "HTMLModel",
      "_view_count": null,
      "_view_module": "@jupyter-widgets/controls",
      "_view_module_version": "1.5.0",
      "_view_name": "HTMLView",
      "description": "",
      "description_tooltip": null,
      "layout": "IPY_MODEL_42b8c11f65384ca3a44f2280d8b5e2ce",
      "placeholder": "​",
      "style": "IPY_MODEL_adacdc096ccf45cfb6eada6d208a3282",
      "value": "100%"
     }
    },
    "6b3d2685fa2e47b9a6b7fe44448bc3ff": {
     "model_module": "@jupyter-widgets/controls",
     "model_module_version": "1.5.0",
     "model_name": "HTMLModel",
     "state": {
      "_dom_classes": [],
      "_model_module": "@jupyter-widgets/controls",
      "_model_module_version": "1.5.0",
      "_model_name": "HTMLModel",
      "_view_count": null,
      "_view_module": "@jupyter-widgets/controls",
      "_view_module_version": "1.5.0",
      "_view_name": "HTMLView",
      "description": "",
      "description_tooltip": null,
      "layout": "IPY_MODEL_bc69c1782e124cd78c6d2b5b56d24e68",
      "placeholder": "​",
      "style": "IPY_MODEL_9e3ca86bce9648ef853129aecdab15d7",
      "value": "100%"
     }
    },
    "86c71985945f45d7a9e93dc409dcdb40": {
     "model_module": "@jupyter-widgets/controls",
     "model_module_version": "1.5.0",
     "model_name": "DescriptionStyleModel",
     "state": {
      "_model_module": "@jupyter-widgets/controls",
      "_model_module_version": "1.5.0",
      "_model_name": "DescriptionStyleModel",
      "_view_count": null,
      "_view_module": "@jupyter-widgets/base",
      "_view_module_version": "1.2.0",
      "_view_name": "StyleView",
      "description_width": ""
     }
    },
    "8d1e0bbe0e1e4c64978a5e8910ba67a6": {
     "model_module": "@jupyter-widgets/controls",
     "model_module_version": "1.5.0",
     "model_name": "FloatProgressModel",
     "state": {
      "_dom_classes": [],
      "_model_module": "@jupyter-widgets/controls",
      "_model_module_version": "1.5.0",
      "_model_name": "FloatProgressModel",
      "_view_count": null,
      "_view_module": "@jupyter-widgets/controls",
      "_view_module_version": "1.5.0",
      "_view_name": "ProgressView",
      "bar_style": "success",
      "description": "",
      "description_tooltip": null,
      "layout": "IPY_MODEL_5298d3a6073d423886be780723ead948",
      "max": 29515,
      "min": 0,
      "orientation": "horizontal",
      "style": "IPY_MODEL_0c088efe8f6846ecb6e743e884cb5dfa",
      "value": 29515
     }
    },
    "8de03bc6811a4eb8b52bef54a121c075": {
     "model_module": "@jupyter-widgets/base",
     "model_module_version": "1.2.0",
     "model_name": "LayoutModel",
     "state": {
      "_model_module": "@jupyter-widgets/base",
      "_model_module_version": "1.2.0",
      "_model_name": "LayoutModel",
      "_view_count": null,
      "_view_module": "@jupyter-widgets/base",
      "_view_module_version": "1.2.0",
      "_view_name": "LayoutView",
      "align_content": null,
      "align_items": null,
      "align_self": null,
      "border": null,
      "bottom": null,
      "display": null,
      "flex": null,
      "flex_flow": null,
      "grid_area": null,
      "grid_auto_columns": null,
      "grid_auto_flow": null,
      "grid_auto_rows": null,
      "grid_column": null,
      "grid_gap": null,
      "grid_row": null,
      "grid_template_areas": null,
      "grid_template_columns": null,
      "grid_template_rows": null,
      "height": null,
      "justify_content": null,
      "justify_items": null,
      "left": null,
      "margin": null,
      "max_height": null,
      "max_width": null,
      "min_height": null,
      "min_width": null,
      "object_fit": null,
      "object_position": null,
      "order": null,
      "overflow": null,
      "overflow_x": null,
      "overflow_y": null,
      "padding": null,
      "right": null,
      "top": null,
      "visibility": null,
      "width": null
     }
    },
    "98b071f6b0e84c1cabeec371120720f6": {
     "model_module": "@jupyter-widgets/controls",
     "model_module_version": "1.5.0",
     "model_name": "DescriptionStyleModel",
     "state": {
      "_model_module": "@jupyter-widgets/controls",
      "_model_module_version": "1.5.0",
      "_model_name": "DescriptionStyleModel",
      "_view_count": null,
      "_view_module": "@jupyter-widgets/base",
      "_view_module_version": "1.2.0",
      "_view_name": "StyleView",
      "description_width": ""
     }
    },
    "9e3ca86bce9648ef853129aecdab15d7": {
     "model_module": "@jupyter-widgets/controls",
     "model_module_version": "1.5.0",
     "model_name": "DescriptionStyleModel",
     "state": {
      "_model_module": "@jupyter-widgets/controls",
      "_model_module_version": "1.5.0",
      "_model_name": "DescriptionStyleModel",
      "_view_count": null,
      "_view_module": "@jupyter-widgets/base",
      "_view_module_version": "1.2.0",
      "_view_name": "StyleView",
      "description_width": ""
     }
    },
    "a6574f9f50e345b6b3123e4a7a28328a": {
     "model_module": "@jupyter-widgets/base",
     "model_module_version": "1.2.0",
     "model_name": "LayoutModel",
     "state": {
      "_model_module": "@jupyter-widgets/base",
      "_model_module_version": "1.2.0",
      "_model_name": "LayoutModel",
      "_view_count": null,
      "_view_module": "@jupyter-widgets/base",
      "_view_module_version": "1.2.0",
      "_view_name": "LayoutView",
      "align_content": null,
      "align_items": null,
      "align_self": null,
      "border": null,
      "bottom": null,
      "display": null,
      "flex": null,
      "flex_flow": null,
      "grid_area": null,
      "grid_auto_columns": null,
      "grid_auto_flow": null,
      "grid_auto_rows": null,
      "grid_column": null,
      "grid_gap": null,
      "grid_row": null,
      "grid_template_areas": null,
      "grid_template_columns": null,
      "grid_template_rows": null,
      "height": null,
      "justify_content": null,
      "justify_items": null,
      "left": null,
      "margin": null,
      "max_height": null,
      "max_width": null,
      "min_height": null,
      "min_width": null,
      "object_fit": null,
      "object_position": null,
      "order": null,
      "overflow": null,
      "overflow_x": null,
      "overflow_y": null,
      "padding": null,
      "right": null,
      "top": null,
      "visibility": null,
      "width": null
     }
    },
    "adacdc096ccf45cfb6eada6d208a3282": {
     "model_module": "@jupyter-widgets/controls",
     "model_module_version": "1.5.0",
     "model_name": "DescriptionStyleModel",
     "state": {
      "_model_module": "@jupyter-widgets/controls",
      "_model_module_version": "1.5.0",
      "_model_name": "DescriptionStyleModel",
      "_view_count": null,
      "_view_module": "@jupyter-widgets/base",
      "_view_module_version": "1.2.0",
      "_view_name": "StyleView",
      "description_width": ""
     }
    },
    "adafb737cd5246b6872d50853ab0fc30": {
     "model_module": "@jupyter-widgets/controls",
     "model_module_version": "1.5.0",
     "model_name": "HBoxModel",
     "state": {
      "_dom_classes": [],
      "_model_module": "@jupyter-widgets/controls",
      "_model_module_version": "1.5.0",
      "_model_name": "HBoxModel",
      "_view_count": null,
      "_view_module": "@jupyter-widgets/controls",
      "_view_module_version": "1.5.0",
      "_view_name": "HBoxView",
      "box_style": "",
      "children": [
       "IPY_MODEL_e78f550ad3e845ed94803ff49492218c",
       "IPY_MODEL_45b5acfc904e45e883c6df03696bb3ab",
       "IPY_MODEL_303f6df767d845e58484951567c03ea6"
      ],
      "layout": "IPY_MODEL_eb7318905d3f4f04befd601e5abd9490"
     }
    },
    "b453a95877414fd2a8f00e563058b4c1": {
     "model_module": "@jupyter-widgets/controls",
     "model_module_version": "1.5.0",
     "model_name": "FloatProgressModel",
     "state": {
      "_dom_classes": [],
      "_model_module": "@jupyter-widgets/controls",
      "_model_module_version": "1.5.0",
      "_model_name": "FloatProgressModel",
      "_view_count": null,
      "_view_module": "@jupyter-widgets/controls",
      "_view_module_version": "1.5.0",
      "_view_name": "ProgressView",
      "bar_style": "success",
      "description": "",
      "description_tooltip": null,
      "layout": "IPY_MODEL_3bccd23f1d0f4c32a635e1c360000535",
      "max": 26421880,
      "min": 0,
      "orientation": "horizontal",
      "style": "IPY_MODEL_4becc50f9de24da7a8b7d8486df46418",
      "value": 26421880
     }
    },
    "b9c59b0ebaec429da61b3a1335011120": {
     "model_module": "@jupyter-widgets/controls",
     "model_module_version": "1.5.0",
     "model_name": "DescriptionStyleModel",
     "state": {
      "_model_module": "@jupyter-widgets/controls",
      "_model_module_version": "1.5.0",
      "_model_name": "DescriptionStyleModel",
      "_view_count": null,
      "_view_module": "@jupyter-widgets/base",
      "_view_module_version": "1.2.0",
      "_view_name": "StyleView",
      "description_width": ""
     }
    },
    "bc69c1782e124cd78c6d2b5b56d24e68": {
     "model_module": "@jupyter-widgets/base",
     "model_module_version": "1.2.0",
     "model_name": "LayoutModel",
     "state": {
      "_model_module": "@jupyter-widgets/base",
      "_model_module_version": "1.2.0",
      "_model_name": "LayoutModel",
      "_view_count": null,
      "_view_module": "@jupyter-widgets/base",
      "_view_module_version": "1.2.0",
      "_view_name": "LayoutView",
      "align_content": null,
      "align_items": null,
      "align_self": null,
      "border": null,
      "bottom": null,
      "display": null,
      "flex": null,
      "flex_flow": null,
      "grid_area": null,
      "grid_auto_columns": null,
      "grid_auto_flow": null,
      "grid_auto_rows": null,
      "grid_column": null,
      "grid_gap": null,
      "grid_row": null,
      "grid_template_areas": null,
      "grid_template_columns": null,
      "grid_template_rows": null,
      "height": null,
      "justify_content": null,
      "justify_items": null,
      "left": null,
      "margin": null,
      "max_height": null,
      "max_width": null,
      "min_height": null,
      "min_width": null,
      "object_fit": null,
      "object_position": null,
      "order": null,
      "overflow": null,
      "overflow_x": null,
      "overflow_y": null,
      "padding": null,
      "right": null,
      "top": null,
      "visibility": null,
      "width": null
     }
    },
    "c7928b7dbb254732b63f37e5e727bf4e": {
     "model_module": "@jupyter-widgets/controls",
     "model_module_version": "1.5.0",
     "model_name": "ProgressStyleModel",
     "state": {
      "_model_module": "@jupyter-widgets/controls",
      "_model_module_version": "1.5.0",
      "_model_name": "ProgressStyleModel",
      "_view_count": null,
      "_view_module": "@jupyter-widgets/base",
      "_view_module_version": "1.2.0",
      "_view_name": "StyleView",
      "bar_color": null,
      "description_width": ""
     }
    },
    "cf3a4465740549038ab87d215e813b78": {
     "model_module": "@jupyter-widgets/base",
     "model_module_version": "1.2.0",
     "model_name": "LayoutModel",
     "state": {
      "_model_module": "@jupyter-widgets/base",
      "_model_module_version": "1.2.0",
      "_model_name": "LayoutModel",
      "_view_count": null,
      "_view_module": "@jupyter-widgets/base",
      "_view_module_version": "1.2.0",
      "_view_name": "LayoutView",
      "align_content": null,
      "align_items": null,
      "align_self": null,
      "border": null,
      "bottom": null,
      "display": null,
      "flex": null,
      "flex_flow": null,
      "grid_area": null,
      "grid_auto_columns": null,
      "grid_auto_flow": null,
      "grid_auto_rows": null,
      "grid_column": null,
      "grid_gap": null,
      "grid_row": null,
      "grid_template_areas": null,
      "grid_template_columns": null,
      "grid_template_rows": null,
      "height": null,
      "justify_content": null,
      "justify_items": null,
      "left": null,
      "margin": null,
      "max_height": null,
      "max_width": null,
      "min_height": null,
      "min_width": null,
      "object_fit": null,
      "object_position": null,
      "order": null,
      "overflow": null,
      "overflow_x": null,
      "overflow_y": null,
      "padding": null,
      "right": null,
      "top": null,
      "visibility": null,
      "width": null
     }
    },
    "e293c1806f7f4e2ba99e920637254045": {
     "model_module": "@jupyter-widgets/controls",
     "model_module_version": "1.5.0",
     "model_name": "HTMLModel",
     "state": {
      "_dom_classes": [],
      "_model_module": "@jupyter-widgets/controls",
      "_model_module_version": "1.5.0",
      "_model_name": "HTMLModel",
      "_view_count": null,
      "_view_module": "@jupyter-widgets/controls",
      "_view_module_version": "1.5.0",
      "_view_name": "HTMLView",
      "description": "",
      "description_tooltip": null,
      "layout": "IPY_MODEL_ffb8eb42937144d7af0961996c2e2ed8",
      "placeholder": "​",
      "style": "IPY_MODEL_e52800dc9c8d4efa856ed48e0c7bdd9c",
      "value": " 5148/5148 [00:00&lt;00:00, 83161.73it/s]"
     }
    },
    "e52800dc9c8d4efa856ed48e0c7bdd9c": {
     "model_module": "@jupyter-widgets/controls",
     "model_module_version": "1.5.0",
     "model_name": "DescriptionStyleModel",
     "state": {
      "_model_module": "@jupyter-widgets/controls",
      "_model_module_version": "1.5.0",
      "_model_name": "DescriptionStyleModel",
      "_view_count": null,
      "_view_module": "@jupyter-widgets/base",
      "_view_module_version": "1.2.0",
      "_view_name": "StyleView",
      "description_width": ""
     }
    },
    "e78f550ad3e845ed94803ff49492218c": {
     "model_module": "@jupyter-widgets/controls",
     "model_module_version": "1.5.0",
     "model_name": "HTMLModel",
     "state": {
      "_dom_classes": [],
      "_model_module": "@jupyter-widgets/controls",
      "_model_module_version": "1.5.0",
      "_model_name": "HTMLModel",
      "_view_count": null,
      "_view_module": "@jupyter-widgets/controls",
      "_view_module_version": "1.5.0",
      "_view_name": "HTMLView",
      "description": "",
      "description_tooltip": null,
      "layout": "IPY_MODEL_6334145d6fdb490b98e4b6245de4f3ff",
      "placeholder": "​",
      "style": "IPY_MODEL_0a6801af3ab04282a76fcf8f98f30471",
      "value": "100%"
     }
    },
    "eb7318905d3f4f04befd601e5abd9490": {
     "model_module": "@jupyter-widgets/base",
     "model_module_version": "1.2.0",
     "model_name": "LayoutModel",
     "state": {
      "_model_module": "@jupyter-widgets/base",
      "_model_module_version": "1.2.0",
      "_model_name": "LayoutModel",
      "_view_count": null,
      "_view_module": "@jupyter-widgets/base",
      "_view_module_version": "1.2.0",
      "_view_name": "LayoutView",
      "align_content": null,
      "align_items": null,
      "align_self": null,
      "border": null,
      "bottom": null,
      "display": null,
      "flex": null,
      "flex_flow": null,
      "grid_area": null,
      "grid_auto_columns": null,
      "grid_auto_flow": null,
      "grid_auto_rows": null,
      "grid_column": null,
      "grid_gap": null,
      "grid_row": null,
      "grid_template_areas": null,
      "grid_template_columns": null,
      "grid_template_rows": null,
      "height": null,
      "justify_content": null,
      "justify_items": null,
      "left": null,
      "margin": null,
      "max_height": null,
      "max_width": null,
      "min_height": null,
      "min_width": null,
      "object_fit": null,
      "object_position": null,
      "order": null,
      "overflow": null,
      "overflow_x": null,
      "overflow_y": null,
      "padding": null,
      "right": null,
      "top": null,
      "visibility": null,
      "width": null
     }
    },
    "ee59f51f371a47069bfd9c06a2b817c2": {
     "model_module": "@jupyter-widgets/controls",
     "model_module_version": "1.5.0",
     "model_name": "HTMLModel",
     "state": {
      "_dom_classes": [],
      "_model_module": "@jupyter-widgets/controls",
      "_model_module_version": "1.5.0",
      "_model_name": "HTMLModel",
      "_view_count": null,
      "_view_module": "@jupyter-widgets/controls",
      "_view_module_version": "1.5.0",
      "_view_name": "HTMLView",
      "description": "",
      "description_tooltip": null,
      "layout": "IPY_MODEL_0de3f2b64b264b13acd8184e68bc99e6",
      "placeholder": "​",
      "style": "IPY_MODEL_b9c59b0ebaec429da61b3a1335011120",
      "value": "100%"
     }
    },
    "f71bec15ad0f4c2ea71d3eca22ed2296": {
     "model_module": "@jupyter-widgets/controls",
     "model_module_version": "1.5.0",
     "model_name": "FloatProgressModel",
     "state": {
      "_dom_classes": [],
      "_model_module": "@jupyter-widgets/controls",
      "_model_module_version": "1.5.0",
      "_model_name": "FloatProgressModel",
      "_view_count": null,
      "_view_module": "@jupyter-widgets/controls",
      "_view_module_version": "1.5.0",
      "_view_name": "ProgressView",
      "bar_style": "success",
      "description": "",
      "description_tooltip": null,
      "layout": "IPY_MODEL_8de03bc6811a4eb8b52bef54a121c075",
      "max": 5148,
      "min": 0,
      "orientation": "horizontal",
      "style": "IPY_MODEL_c7928b7dbb254732b63f37e5e727bf4e",
      "value": 5148
     }
    },
    "f8afd7b44e534373a89dcfa065212145": {
     "model_module": "@jupyter-widgets/controls",
     "model_module_version": "1.5.0",
     "model_name": "HTMLModel",
     "state": {
      "_dom_classes": [],
      "_model_module": "@jupyter-widgets/controls",
      "_model_module_version": "1.5.0",
      "_model_name": "HTMLModel",
      "_view_count": null,
      "_view_module": "@jupyter-widgets/controls",
      "_view_module_version": "1.5.0",
      "_view_name": "HTMLView",
      "description": "",
      "description_tooltip": null,
      "layout": "IPY_MODEL_fddda2288fc34c77a04e60ac1e34f1e0",
      "placeholder": "​",
      "style": "IPY_MODEL_98b071f6b0e84c1cabeec371120720f6",
      "value": " 26421880/26421880 [00:02&lt;00:00, 18600115.00it/s]"
     }
    },
    "fddda2288fc34c77a04e60ac1e34f1e0": {
     "model_module": "@jupyter-widgets/base",
     "model_module_version": "1.2.0",
     "model_name": "LayoutModel",
     "state": {
      "_model_module": "@jupyter-widgets/base",
      "_model_module_version": "1.2.0",
      "_model_name": "LayoutModel",
      "_view_count": null,
      "_view_module": "@jupyter-widgets/base",
      "_view_module_version": "1.2.0",
      "_view_name": "LayoutView",
      "align_content": null,
      "align_items": null,
      "align_self": null,
      "border": null,
      "bottom": null,
      "display": null,
      "flex": null,
      "flex_flow": null,
      "grid_area": null,
      "grid_auto_columns": null,
      "grid_auto_flow": null,
      "grid_auto_rows": null,
      "grid_column": null,
      "grid_gap": null,
      "grid_row": null,
      "grid_template_areas": null,
      "grid_template_columns": null,
      "grid_template_rows": null,
      "height": null,
      "justify_content": null,
      "justify_items": null,
      "left": null,
      "margin": null,
      "max_height": null,
      "max_width": null,
      "min_height": null,
      "min_width": null,
      "object_fit": null,
      "object_position": null,
      "order": null,
      "overflow": null,
      "overflow_x": null,
      "overflow_y": null,
      "padding": null,
      "right": null,
      "top": null,
      "visibility": null,
      "width": null
     }
    },
    "ffb8eb42937144d7af0961996c2e2ed8": {
     "model_module": "@jupyter-widgets/base",
     "model_module_version": "1.2.0",
     "model_name": "LayoutModel",
     "state": {
      "_model_module": "@jupyter-widgets/base",
      "_model_module_version": "1.2.0",
      "_model_name": "LayoutModel",
      "_view_count": null,
      "_view_module": "@jupyter-widgets/base",
      "_view_module_version": "1.2.0",
      "_view_name": "LayoutView",
      "align_content": null,
      "align_items": null,
      "align_self": null,
      "border": null,
      "bottom": null,
      "display": null,
      "flex": null,
      "flex_flow": null,
      "grid_area": null,
      "grid_auto_columns": null,
      "grid_auto_flow": null,
      "grid_auto_rows": null,
      "grid_column": null,
      "grid_gap": null,
      "grid_row": null,
      "grid_template_areas": null,
      "grid_template_columns": null,
      "grid_template_rows": null,
      "height": null,
      "justify_content": null,
      "justify_items": null,
      "left": null,
      "margin": null,
      "max_height": null,
      "max_width": null,
      "min_height": null,
      "min_width": null,
      "object_fit": null,
      "object_position": null,
      "order": null,
      "overflow": null,
      "overflow_x": null,
      "overflow_y": null,
      "padding": null,
      "right": null,
      "top": null,
      "visibility": null,
      "width": null
     }
    }
   }
  }
 },
 "nbformat": 4,
 "nbformat_minor": 0
}
