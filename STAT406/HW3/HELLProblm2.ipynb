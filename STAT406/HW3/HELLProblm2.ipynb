{
 "cells": [
  {
   "cell_type": "code",
   "execution_count": 1,
   "metadata": {},
   "outputs": [
    {
     "name": "stdout",
     "output_type": "stream",
     "text": [
      "Levene's test statistic (Brown-Forsythe equivalent): nan\n",
      "P-value: nan\n",
      "At 95% confidence, the variabilities are not different.\n",
      "At 90% confidence, the variabilities are not different.\n"
     ]
    },
    {
     "name": "stderr",
     "output_type": "stream",
     "text": [
      "C:\\Users\\Shouro Shuvit\\AppData\\Local\\Temp\\ipykernel_13416\\2506666174.py:8: SmallSampleWarning: One or more sample arguments is too small; all returned values will be NaN. See documentation for sample size requirements.\n",
      "  levene_stat, levene_pvalue = stats.levene(males_data['height'], males_data['armspan'], center='median')\n"
     ]
    },
    {
     "data": {
      "text/html": [
       "<div>\n",
       "<style scoped>\n",
       "    .dataframe tbody tr th:only-of-type {\n",
       "        vertical-align: middle;\n",
       "    }\n",
       "\n",
       "    .dataframe tbody tr th {\n",
       "        vertical-align: top;\n",
       "    }\n",
       "\n",
       "    .dataframe thead th {\n",
       "        text-align: right;\n",
       "    }\n",
       "</style>\n",
       "<table border=\"1\" class=\"dataframe\">\n",
       "  <thead>\n",
       "    <tr style=\"text-align: right;\">\n",
       "      <th></th>\n",
       "      <th>height</th>\n",
       "      <th>armspan</th>\n",
       "      <th>differen</th>\n",
       "      <th>gender</th>\n",
       "    </tr>\n",
       "  </thead>\n",
       "  <tbody>\n",
       "    <tr>\n",
       "      <th>0</th>\n",
       "      <td>73.0</td>\n",
       "      <td>75.0</td>\n",
       "      <td>-2.0</td>\n",
       "      <td>male</td>\n",
       "    </tr>\n",
       "    <tr>\n",
       "      <th>1</th>\n",
       "      <td>69.0</td>\n",
       "      <td>69.0</td>\n",
       "      <td>0.0</td>\n",
       "      <td>male</td>\n",
       "    </tr>\n",
       "    <tr>\n",
       "      <th>2</th>\n",
       "      <td>74.0</td>\n",
       "      <td>72.0</td>\n",
       "      <td>2.0</td>\n",
       "      <td>male</td>\n",
       "    </tr>\n",
       "    <tr>\n",
       "      <th>3</th>\n",
       "      <td>71.0</td>\n",
       "      <td>70.0</td>\n",
       "      <td>1.0</td>\n",
       "      <td>male</td>\n",
       "    </tr>\n",
       "    <tr>\n",
       "      <th>4</th>\n",
       "      <td>70.0</td>\n",
       "      <td>70.0</td>\n",
       "      <td>0.0</td>\n",
       "      <td>male</td>\n",
       "    </tr>\n",
       "  </tbody>\n",
       "</table>\n",
       "</div>"
      ],
      "text/plain": [
       "   height  armspan  differen gender\n",
       "0    73.0     75.0      -2.0   male\n",
       "1    69.0     69.0       0.0   male\n",
       "2    74.0     72.0       2.0   male\n",
       "3    71.0     70.0       1.0   male\n",
       "4    70.0     70.0       0.0   male"
      ]
     },
     "execution_count": 1,
     "metadata": {},
     "output_type": "execute_result"
    }
   ],
   "source": [
    "from scipy import stats\n",
    "import pandas as pd\n",
    "\n",
    "def clean_data(df):\n",
    "    # Filter data for males (gender == 0)\n",
    "    males_data = df[df['gender'] == 0]\n",
    "    # Levene's test (similar to Brown-Forsythe)\n",
    "    levene_stat, levene_pvalue = stats.levene(males_data['height'], males_data['armspan'], center='median')\n",
    "    # Print the results\n",
    "    print(f\"Levene's test statistic (Brown-Forsythe equivalent): {levene_stat}\")\n",
    "    print(f\"P-value: {levene_pvalue}\")\n",
    "    # Check for rejection of null hypothesis\n",
    "    alpha_90 = 0.10\n",
    "    alpha_95 = 0.05\n",
    "    if levene_pvalue < alpha_95:\n",
    "        print(\"At 95% confidence, the variabilities are different.\")\n",
    "    else:\n",
    "        print(\"At 95% confidence, the variabilities are not different.\")\n",
    "    if levene_pvalue < alpha_90:\n",
    "        print(\"At 90% confidence, the variabilities are different.\")\n",
    "    else:\n",
    "        print(\"At 90% confidence, the variabilities are not different.\")\n",
    "    return df\n",
    "\n",
    "# Loaded variable 'df' from URI: c:\\Users\\Shouro Shuvit\\OneDrive\\Documents\\GitHub\\Fall-2024\\STAT406\\HW3\\armspan_alldatagendernames.xlsx\n",
    "df = pd.read_excel(r'c:\\Users\\Shouro Shuvit\\OneDrive\\Documents\\GitHub\\Fall-2024\\STAT406\\HW3\\armspan_alldatagendernames.xlsx')\n",
    "\n",
    "df_clean = clean_data(df.copy())\n",
    "df_clean.head()"
   ]
  }
 ],
 "metadata": {
  "kernelspec": {
   "display_name": "Python 3",
   "language": "python",
   "name": "python3"
  },
  "language_info": {
   "codemirror_mode": {
    "name": "ipython",
    "version": 3
   },
   "file_extension": ".py",
   "mimetype": "text/x-python",
   "name": "python",
   "nbconvert_exporter": "python",
   "pygments_lexer": "ipython3",
   "version": "3.12.4"
  }
 },
 "nbformat": 4,
 "nbformat_minor": 2
}
