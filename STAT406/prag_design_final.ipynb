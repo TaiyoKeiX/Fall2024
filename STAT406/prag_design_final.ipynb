{
 "cells": [
  {
   "cell_type": "markdown",
   "id": "78a41859",
   "metadata": {},
   "source": [
    "# Pragmatic Distributive Design\n",
    "This notebook simulates a pragmatic fractional factorial trial to study heart disease prediction using various predictors."
   ]
  },
  {
   "cell_type": "markdown",
   "id": "7e975af3",
   "metadata": {},
   "source": [
    "## Import Dataset from Kaggle\n",
    "We will use the KaggleHub library to download and use the heart disease dataset."
   ]
  },
  {
   "cell_type": "code",
   "execution_count": 1,
   "id": "c5e58ad2",
   "metadata": {},
   "outputs": [
    {
     "name": "stdout",
     "output_type": "stream",
     "text": [
      "Requirement already satisfied: kagglehub in c:\\users\\ssjed\\appdata\\local\\programs\\python\\python312\\lib\\site-packages (0.3.4)\n",
      "Requirement already satisfied: packaging in c:\\users\\ssjed\\appdata\\roaming\\python\\python312\\site-packages (from kagglehub) (24.1)\n",
      "Requirement already satisfied: requests in c:\\users\\ssjed\\appdata\\local\\programs\\python\\python312\\lib\\site-packages (from kagglehub) (2.32.3)\n",
      "Requirement already satisfied: tqdm in c:\\users\\ssjed\\appdata\\local\\programs\\python\\python312\\lib\\site-packages (from kagglehub) (4.66.5)\n",
      "Requirement already satisfied: charset-normalizer<4,>=2 in c:\\users\\ssjed\\appdata\\local\\programs\\python\\python312\\lib\\site-packages (from requests->kagglehub) (3.4.0)\n",
      "Requirement already satisfied: idna<4,>=2.5 in c:\\users\\ssjed\\appdata\\local\\programs\\python\\python312\\lib\\site-packages (from requests->kagglehub) (3.10)\n",
      "Requirement already satisfied: urllib3<3,>=1.21.1 in c:\\users\\ssjed\\appdata\\local\\programs\\python\\python312\\lib\\site-packages (from requests->kagglehub) (2.2.3)\n",
      "Requirement already satisfied: certifi>=2017.4.17 in c:\\users\\ssjed\\appdata\\local\\programs\\python\\python312\\lib\\site-packages (from requests->kagglehub) (2024.8.30)\n",
      "Requirement already satisfied: colorama in c:\\users\\ssjed\\appdata\\roaming\\python\\python312\\site-packages (from tqdm->kagglehub) (0.4.6)\n",
      "Note: you may need to restart the kernel to use updated packages.\n",
      "Requirement already satisfied: matplotlib in c:\\users\\ssjed\\appdata\\local\\programs\\python\\python312\\lib\\site-packages (3.9.2)\n",
      "Requirement already satisfied: contourpy>=1.0.1 in c:\\users\\ssjed\\appdata\\local\\programs\\python\\python312\\lib\\site-packages (from matplotlib) (1.3.0)\n",
      "Requirement already satisfied: cycler>=0.10 in c:\\users\\ssjed\\appdata\\local\\programs\\python\\python312\\lib\\site-packages (from matplotlib) (0.12.1)\n",
      "Requirement already satisfied: fonttools>=4.22.0 in c:\\users\\ssjed\\appdata\\local\\programs\\python\\python312\\lib\\site-packages (from matplotlib) (4.53.1)\n",
      "Requirement already satisfied: kiwisolver>=1.3.1 in c:\\users\\ssjed\\appdata\\local\\programs\\python\\python312\\lib\\site-packages (from matplotlib) (1.4.5)\n",
      "Requirement already satisfied: numpy>=1.23 in c:\\users\\ssjed\\appdata\\local\\programs\\python\\python312\\lib\\site-packages (from matplotlib) (1.26.4)\n",
      "Requirement already satisfied: packaging>=20.0 in c:\\users\\ssjed\\appdata\\roaming\\python\\python312\\site-packages (from matplotlib) (24.1)\n",
      "Requirement already satisfied: pillow>=8 in c:\\users\\ssjed\\appdata\\local\\programs\\python\\python312\\lib\\site-packages (from matplotlib) (10.4.0)\n",
      "Requirement already satisfied: pyparsing>=2.3.1 in c:\\users\\ssjed\\appdata\\local\\programs\\python\\python312\\lib\\site-packages (from matplotlib) (3.1.4)\n",
      "Requirement already satisfied: python-dateutil>=2.7 in c:\\users\\ssjed\\appdata\\roaming\\python\\python312\\site-packages (from matplotlib) (2.9.0.post0)\n",
      "Requirement already satisfied: six>=1.5 in c:\\users\\ssjed\\appdata\\roaming\\python\\python312\\site-packages (from python-dateutil>=2.7->matplotlib) (1.16.0)\n",
      "Note: you may need to restart the kernel to use updated packages.\n"
     ]
    },
    {
     "data": {
      "text/plain": [
       "Index(['HeartDiseaseorAttack', 'HighBP', 'HighChol', 'CholCheck', 'BMI',\n",
       "       'Smoker', 'Stroke', 'Diabetes', 'PhysActivity', 'Fruits', 'Veggies',\n",
       "       'HvyAlcoholConsump', 'AnyHealthcare', 'NoDocbcCost', 'GenHlth',\n",
       "       'MentHlth', 'PhysHlth', 'DiffWalk', 'Sex', 'Age', 'Education',\n",
       "       'Income'],\n",
       "      dtype='object')"
      ]
     },
     "execution_count": 1,
     "metadata": {},
     "output_type": "execute_result"
    }
   ],
   "source": [
    "%pip install kagglehub\n",
    "%pip install matplotlib\n",
    "import statsmodels.api as sm\n",
    "\n",
    "import pandas as pd\n",
    "import kagglehub\n",
    "\n",
    "# Download the latest version of the dataset\n",
    "path = kagglehub.dataset_download(\"alexteboul/heart-disease-health-indicators-dataset\")\n",
    "\n",
    "# Load the dataset into a DataFrame\n",
    "data = pd.read_csv(f\"{path}/heart_disease_health_indicators_BRFSS2015.csv\")\n",
    "\n",
    "# Display the first few rows of the dataset\n",
    "data.head()\n",
    "data.columns"
   ]
  },
  {
   "cell_type": "markdown",
   "id": "d507c9ca",
   "metadata": {},
   "source": [
    "## Addressing Singular Matrix Errors\n",
    "Before fitting the logistic regression, we will check for constant columns and high collinearity, and remove problematic features to ensure the design matrix is invertible."
   ]
  },
  {
   "cell_type": "code",
   "execution_count": 2,
   "id": "beaa5aa1",
   "metadata": {},
   "outputs": [
    {
     "name": "stdout",
     "output_type": "stream",
     "text": [
      "Optimization terminated successfully.\n",
      "         Current function value: 0.288836\n",
      "         Iterations 7\n",
      "                            Logit Regression Results                            \n",
      "================================================================================\n",
      "Dep. Variable:     HeartDiseaseorAttack   No. Observations:               253680\n",
      "Model:                            Logit   Df Residuals:                   253672\n",
      "Method:                             MLE   Df Model:                            7\n",
      "Date:                  Mon, 18 Nov 2024   Pseudo R-squ.:                 0.07459\n",
      "Time:                          22:03:41   Log-Likelihood:                -73272.\n",
      "converged:                         True   LL-Null:                       -79178.\n",
      "Covariance Type:              nonrobust   LLR p-value:                     0.000\n",
      "================================================================================\n",
      "                   coef    std err          z      P>|z|      [0.025      0.975]\n",
      "--------------------------------------------------------------------------------\n",
      "HighBP           0.7756      0.016     49.235      0.000       0.745       0.807\n",
      "HighChol         0.5882      0.015     39.222      0.000       0.559       0.618\n",
      "CholCheck       -2.6040      0.017   -148.817      0.000      -2.638      -2.570\n",
      "Smoker           0.1697      0.013     12.678      0.000       0.143       0.196\n",
      "Stroke           1.4233      0.023     61.229      0.000       1.378       1.469\n",
      "Diabetes         0.3286      0.008     39.277      0.000       0.312       0.345\n",
      "PhysActivity    -0.8011      0.013    -60.247      0.000      -0.827      -0.775\n",
      "Fruits          -0.3173      0.014    -23.452      0.000      -0.344      -0.291\n",
      "================================================================================\n"
     ]
    }
   ],
   "source": [
    "# Check and clean the design matrix to avoid singular matrix issues\n",
    "# Define features and target\n",
    "kaggle_features = [\n",
    "    'HighBP', 'HighChol', 'CholCheck', 'Smoker', 'Stroke',\n",
    "    'Diabetes', 'PhysActivity', 'Fruits'\n",
    "]\n",
    "X = data[kaggle_features]\n",
    "y = data['HeartDiseaseorAttack']\n",
    "\n",
    "# Add a constant term for the intercept\n",
    "X = sm.add_constant(X)\n",
    "\n",
    "# Remove constant columns\n",
    "X = X.loc[:, (X != X.iloc[0]).any()]\n",
    "\n",
    "# Check and remove highly correlated columns\n",
    "correlation_matrix = X.corr()\n",
    "correlation_threshold = 0.95\n",
    "correlated_pairs = set()\n",
    "for i in range(len(correlation_matrix.columns)):\n",
    "    for j in range(i):\n",
    "        if abs(correlation_matrix.iloc[i, j]) > correlation_threshold:\n",
    "            correlated_pairs.add(correlation_matrix.columns[i])\n",
    "X = X.drop(columns=correlated_pairs)\n",
    "\n",
    "# Fit the model\n",
    "model = sm.Logit(y, X).fit()\n",
    "print(model.summary())"
   ]
  },
  {
   "cell_type": "code",
   "execution_count": 3,
   "id": "f8fa61ec",
   "metadata": {},
   "outputs": [],
   "source": [
    "import numpy as np\n",
    "import pandas as pd\n",
    "from itertools import combinations\n",
    "from statsmodels.formula.api import logit\n",
    "from scipy.stats import bernoulli\n",
    "import matplotlib.pyplot as plt"
   ]
  },
  {
   "cell_type": "markdown",
   "id": "1140ae49",
   "metadata": {},
   "source": [
    "## Parameters of the Trial\n",
    "Set the number of participants, predictors, and other trial design parameters."
   ]
  },
  {
   "cell_type": "code",
   "execution_count": 4,
   "id": "3c43cbb1",
   "metadata": {},
   "outputs": [],
   "source": [
    "# Number of participants and predictors\n",
    "n_participants = 1000\n",
    "n_predictors = 10\n",
    "n_allocations = 5  # Number of predictors allocated to each participant\n",
    "\n",
    "# Effective predictors and interactions\n",
    "effective_predictors = [0, 3]  # Indices of effective predictors\n",
    "interaction_effects = [(0, 3)]  # List of interaction pairs with effects\n",
    "base_probability = 0.1  # Baseline probability of heart disease"
   ]
  },
  {
   "cell_type": "markdown",
   "id": "4eee5561",
   "metadata": {},
   "source": [
    "## Generate the Design Matrix\n",
    "Randomly assign predictors to participants and create a design matrix."
   ]
  },
  {
   "cell_type": "code",
   "execution_count": 5,
   "id": "1547e86c",
   "metadata": {},
   "outputs": [],
   "source": [
    "np.random.seed(42)\n",
    "predictor_names = [f\"Predictor_{i}\" for i in range(n_predictors)]\n",
    "\n",
    "# Design matrix where each participant gets n_allocations predictors\n",
    "design_matrix = np.zeros((n_participants, n_predictors), dtype=int)\n",
    "for i in range(n_participants):\n",
    "    allocated = np.random.choice(n_predictors, n_allocations, replace=False)\n",
    "    design_matrix[i, allocated] = 1\n",
    "\n",
    "data = pd.DataFrame(design_matrix, columns=predictor_names)"
   ]
  },
  {
   "cell_type": "markdown",
   "id": "34ba3654",
   "metadata": {},
   "source": [
    "## Simulate the Outcome\n",
    "Calculate the probability of heart disease based on main effects and interactions."
   ]
  },
  {
   "cell_type": "code",
   "execution_count": 6,
   "id": "3a4fc795",
   "metadata": {},
   "outputs": [],
   "source": [
    "def simulate_outcome(row):\n",
    "    log_odds = base_probability\n",
    "    # Add main effects\n",
    "    for i in effective_predictors:\n",
    "        log_odds += row[f\"Predictor_{i}\"] * 0.5\n",
    "    # Add interaction effects\n",
    "    for pair in interaction_effects:\n",
    "        if row[f\"Predictor_{pair[0]}\"] == 1 and row[f\"Predictor_{pair[1]}\"] == 1:\n",
    "            log_odds += 1.0\n",
    "    # Convert log-odds to probability\n",
    "    odds = np.exp(log_odds)\n",
    "    prob = odds / (1 + odds)\n",
    "    return bernoulli.rvs(prob)\n",
    "\n",
    "data['HeartDiseaseorAttack'] = data.apply(simulate_outcome, axis=1)"
   ]
  },
  {
   "cell_type": "markdown",
   "id": "8b3811b2",
   "metadata": {},
   "source": [
    "## Perform Logistic Regression\n",
    "Analyze the main effects and interactions using logistic regression."
   ]
  },
  {
   "cell_type": "code",
   "execution_count": 7,
   "id": "577e7fe3",
   "metadata": {},
   "outputs": [
    {
     "name": "stdout",
     "output_type": "stream",
     "text": [
      "Optimization terminated successfully.\n",
      "         Current function value: 0.597327\n",
      "         Iterations 6\n"
     ]
    },
    {
     "data": {
      "text/html": [
       "<table class=\"simpletable\">\n",
       "<caption>Logit Regression Results</caption>\n",
       "<tr>\n",
       "  <th>Dep. Variable:</th>   <td>HeartDiseaseorAttack</td> <th>  No. Observations:  </th>  <td>  1000</td>  \n",
       "</tr>\n",
       "<tr>\n",
       "  <th>Model:</th>                   <td>Logit</td>        <th>  Df Residuals:      </th>  <td>   988</td>  \n",
       "</tr>\n",
       "<tr>\n",
       "  <th>Method:</th>                   <td>MLE</td>         <th>  Df Model:          </th>  <td>    11</td>  \n",
       "</tr>\n",
       "<tr>\n",
       "  <th>Date:</th>              <td>Mon, 18 Nov 2024</td>   <th>  Pseudo R-squ.:     </th>  <td>0.05052</td> \n",
       "</tr>\n",
       "<tr>\n",
       "  <th>Time:</th>                  <td>22:03:42</td>       <th>  Log-Likelihood:    </th> <td> -597.33</td> \n",
       "</tr>\n",
       "<tr>\n",
       "  <th>converged:</th>               <td>True</td>         <th>  LL-Null:           </th> <td> -629.11</td> \n",
       "</tr>\n",
       "<tr>\n",
       "  <th>Covariance Type:</th>       <td>nonrobust</td>      <th>  LLR p-value:       </th> <td>2.003e-09</td>\n",
       "</tr>\n",
       "</table>\n",
       "<table class=\"simpletable\">\n",
       "<tr>\n",
       "             <td></td>                <th>coef</th>     <th>std err</th>      <th>z</th>      <th>P>|z|</th>  <th>[0.025</th>    <th>0.975]</th>  \n",
       "</tr>\n",
       "<tr>\n",
       "  <th>Intercept</th>               <td>    0.1980</td> <td> 7.28e+06</td> <td> 2.72e-08</td> <td> 1.000</td> <td>-1.43e+07</td> <td> 1.43e+07</td>\n",
       "</tr>\n",
       "<tr>\n",
       "  <th>Predictor_0</th>             <td>    0.6907</td> <td> 1.46e+06</td> <td> 4.74e-07</td> <td> 1.000</td> <td>-2.85e+06</td> <td> 2.85e+06</td>\n",
       "</tr>\n",
       "<tr>\n",
       "  <th>Predictor_1</th>             <td>   -0.0432</td> <td> 1.46e+06</td> <td>-2.96e-08</td> <td> 1.000</td> <td>-2.85e+06</td> <td> 2.85e+06</td>\n",
       "</tr>\n",
       "<tr>\n",
       "  <th>Predictor_2</th>             <td>   -0.0045</td> <td> 1.46e+06</td> <td>-3.06e-09</td> <td> 1.000</td> <td>-2.85e+06</td> <td> 2.85e+06</td>\n",
       "</tr>\n",
       "<tr>\n",
       "  <th>Predictor_3</th>             <td>    0.4287</td> <td> 1.46e+06</td> <td> 2.94e-07</td> <td> 1.000</td> <td>-2.85e+06</td> <td> 2.85e+06</td>\n",
       "</tr>\n",
       "<tr>\n",
       "  <th>Predictor_4</th>             <td>    0.1251</td> <td> 1.46e+06</td> <td> 8.59e-08</td> <td> 1.000</td> <td>-2.85e+06</td> <td> 2.85e+06</td>\n",
       "</tr>\n",
       "<tr>\n",
       "  <th>Predictor_5</th>             <td>   -0.1528</td> <td> 1.46e+06</td> <td>-1.05e-07</td> <td> 1.000</td> <td>-2.85e+06</td> <td> 2.85e+06</td>\n",
       "</tr>\n",
       "<tr>\n",
       "  <th>Predictor_6</th>             <td>    0.0991</td> <td> 1.46e+06</td> <td> 6.81e-08</td> <td> 1.000</td> <td>-2.85e+06</td> <td> 2.85e+06</td>\n",
       "</tr>\n",
       "<tr>\n",
       "  <th>Predictor_7</th>             <td>   -0.0691</td> <td> 1.46e+06</td> <td>-4.74e-08</td> <td> 1.000</td> <td>-2.85e+06</td> <td> 2.85e+06</td>\n",
       "</tr>\n",
       "<tr>\n",
       "  <th>Predictor_8</th>             <td>   -0.0806</td> <td> 1.46e+06</td> <td>-5.54e-08</td> <td> 1.000</td> <td>-2.85e+06</td> <td> 2.85e+06</td>\n",
       "</tr>\n",
       "<tr>\n",
       "  <th>Predictor_9</th>             <td>   -0.0035</td> <td> 1.46e+06</td> <td> -2.4e-09</td> <td> 1.000</td> <td>-2.85e+06</td> <td> 2.85e+06</td>\n",
       "</tr>\n",
       "<tr>\n",
       "  <th>Predictor_0:Predictor_3</th> <td>    0.4689</td> <td>    0.292</td> <td>    1.604</td> <td> 0.109</td> <td>   -0.104</td> <td>    1.042</td>\n",
       "</tr>\n",
       "</table>"
      ],
      "text/latex": [
       "\\begin{center}\n",
       "\\begin{tabular}{lclc}\n",
       "\\toprule\n",
       "\\textbf{Dep. Variable:}            & HeartDiseaseorAttack & \\textbf{  No. Observations:  } &     1000    \\\\\n",
       "\\textbf{Model:}                    &        Logit         & \\textbf{  Df Residuals:      } &      988    \\\\\n",
       "\\textbf{Method:}                   &         MLE          & \\textbf{  Df Model:          } &       11    \\\\\n",
       "\\textbf{Date:}                     &   Mon, 18 Nov 2024   & \\textbf{  Pseudo R-squ.:     } &  0.05052    \\\\\n",
       "\\textbf{Time:}                     &       22:03:42       & \\textbf{  Log-Likelihood:    } &   -597.33   \\\\\n",
       "\\textbf{converged:}                &         True         & \\textbf{  LL-Null:           } &   -629.11   \\\\\n",
       "\\textbf{Covariance Type:}          &      nonrobust       & \\textbf{  LLR p-value:       } & 2.003e-09   \\\\\n",
       "\\bottomrule\n",
       "\\end{tabular}\n",
       "\\begin{tabular}{lcccccc}\n",
       "                                   & \\textbf{coef} & \\textbf{std err} & \\textbf{z} & \\textbf{P$> |$z$|$} & \\textbf{[0.025} & \\textbf{0.975]}  \\\\\n",
       "\\midrule\n",
       "\\textbf{Intercept}                 &       0.1980  &     7.28e+06     &  2.72e-08  &         1.000        &    -1.43e+07    &     1.43e+07     \\\\\n",
       "\\textbf{Predictor\\_0}              &       0.6907  &     1.46e+06     &  4.74e-07  &         1.000        &    -2.85e+06    &     2.85e+06     \\\\\n",
       "\\textbf{Predictor\\_1}              &      -0.0432  &     1.46e+06     & -2.96e-08  &         1.000        &    -2.85e+06    &     2.85e+06     \\\\\n",
       "\\textbf{Predictor\\_2}              &      -0.0045  &     1.46e+06     & -3.06e-09  &         1.000        &    -2.85e+06    &     2.85e+06     \\\\\n",
       "\\textbf{Predictor\\_3}              &       0.4287  &     1.46e+06     &  2.94e-07  &         1.000        &    -2.85e+06    &     2.85e+06     \\\\\n",
       "\\textbf{Predictor\\_4}              &       0.1251  &     1.46e+06     &  8.59e-08  &         1.000        &    -2.85e+06    &     2.85e+06     \\\\\n",
       "\\textbf{Predictor\\_5}              &      -0.1528  &     1.46e+06     & -1.05e-07  &         1.000        &    -2.85e+06    &     2.85e+06     \\\\\n",
       "\\textbf{Predictor\\_6}              &       0.0991  &     1.46e+06     &  6.81e-08  &         1.000        &    -2.85e+06    &     2.85e+06     \\\\\n",
       "\\textbf{Predictor\\_7}              &      -0.0691  &     1.46e+06     & -4.74e-08  &         1.000        &    -2.85e+06    &     2.85e+06     \\\\\n",
       "\\textbf{Predictor\\_8}              &      -0.0806  &     1.46e+06     & -5.54e-08  &         1.000        &    -2.85e+06    &     2.85e+06     \\\\\n",
       "\\textbf{Predictor\\_9}              &      -0.0035  &     1.46e+06     &  -2.4e-09  &         1.000        &    -2.85e+06    &     2.85e+06     \\\\\n",
       "\\textbf{Predictor\\_0:Predictor\\_3} &       0.4689  &        0.292     &     1.604  &         0.109        &       -0.104    &        1.042     \\\\\n",
       "\\bottomrule\n",
       "\\end{tabular}\n",
       "%\\caption{Logit Regression Results}\n",
       "\\end{center}"
      ],
      "text/plain": [
       "<class 'statsmodels.iolib.summary.Summary'>\n",
       "\"\"\"\n",
       "                            Logit Regression Results                            \n",
       "================================================================================\n",
       "Dep. Variable:     HeartDiseaseorAttack   No. Observations:                 1000\n",
       "Model:                            Logit   Df Residuals:                      988\n",
       "Method:                             MLE   Df Model:                           11\n",
       "Date:                  Mon, 18 Nov 2024   Pseudo R-squ.:                 0.05052\n",
       "Time:                          22:03:42   Log-Likelihood:                -597.33\n",
       "converged:                         True   LL-Null:                       -629.11\n",
       "Covariance Type:              nonrobust   LLR p-value:                 2.003e-09\n",
       "===========================================================================================\n",
       "                              coef    std err          z      P>|z|      [0.025      0.975]\n",
       "-------------------------------------------------------------------------------------------\n",
       "Intercept                   0.1980   7.28e+06   2.72e-08      1.000   -1.43e+07    1.43e+07\n",
       "Predictor_0                 0.6907   1.46e+06   4.74e-07      1.000   -2.85e+06    2.85e+06\n",
       "Predictor_1                -0.0432   1.46e+06  -2.96e-08      1.000   -2.85e+06    2.85e+06\n",
       "Predictor_2                -0.0045   1.46e+06  -3.06e-09      1.000   -2.85e+06    2.85e+06\n",
       "Predictor_3                 0.4287   1.46e+06   2.94e-07      1.000   -2.85e+06    2.85e+06\n",
       "Predictor_4                 0.1251   1.46e+06   8.59e-08      1.000   -2.85e+06    2.85e+06\n",
       "Predictor_5                -0.1528   1.46e+06  -1.05e-07      1.000   -2.85e+06    2.85e+06\n",
       "Predictor_6                 0.0991   1.46e+06   6.81e-08      1.000   -2.85e+06    2.85e+06\n",
       "Predictor_7                -0.0691   1.46e+06  -4.74e-08      1.000   -2.85e+06    2.85e+06\n",
       "Predictor_8                -0.0806   1.46e+06  -5.54e-08      1.000   -2.85e+06    2.85e+06\n",
       "Predictor_9                -0.0035   1.46e+06   -2.4e-09      1.000   -2.85e+06    2.85e+06\n",
       "Predictor_0:Predictor_3     0.4689      0.292      1.604      0.109      -0.104       1.042\n",
       "===========================================================================================\n",
       "\"\"\""
      ]
     },
     "execution_count": 7,
     "metadata": {},
     "output_type": "execute_result"
    }
   ],
   "source": [
    "# Create the formula for logistic regression\n",
    "formula = \"HeartDiseaseorAttack ~ \" + \" + \".join(predictor_names)\n",
    "for pair in interaction_effects:\n",
    "    formula += f\" + Predictor_{pair[0]}:Predictor_{pair[1]}\"\n",
    "\n",
    "# Fit logistic regression model\n",
    "model = logit(formula, data=data).fit()\n",
    "model.summary()"
   ]
  },
  {
   "cell_type": "markdown",
   "id": "ee273cc2",
   "metadata": {},
   "source": [
    "## Visualize the Results\n",
    "Plot the estimated coefficients for main effects and interactions."
   ]
  },
  {
   "cell_type": "code",
   "execution_count": 8,
   "id": "b6fa9523",
   "metadata": {},
   "outputs": [
    {
     "data": {
      "image/png": "[encoded data removed]",
      "text/plain": [
       "<Figure size 1000x600 with 1 Axes>"
      ]
     },
     "metadata": {},
     "output_type": "display_data"
    }
   ],
   "source": [
    "# Extract coefficients and p-values\n",
    "coefficients = model.params\n",
    "p_values = model.pvalues\n",
    "\n",
    "# Plot coefficients\n",
    "plt.figure(figsize=(10, 6))\n",
    "coefficients.plot(kind='bar', color='skyblue')\n",
    "plt.title('Logistic Regression Coefficients')\n",
    "plt.ylabel('Coefficient Value')\n",
    "plt.xlabel('Predictors')\n",
    "plt.axhline(0, color='red', linestyle='--', linewidth=1)\n",
    "plt.show()"
   ]
  },
  {
   "cell_type": "markdown",
   "id": "f3394d66",
   "metadata": {},
   "source": [
    "## Comparison Between Distributive and Full Factorial Designs\n",
    "We will simulate a full factorial design and compare it to the pragmatic distributive design in terms of sample size, power, and efficiency."
   ]
  },
  {
   "cell_type": "code",
   "execution_count": 9,
   "id": "04094279",
   "metadata": {},
   "outputs": [
    {
     "name": "stdout",
     "output_type": "stream",
     "text": [
      "Optimization terminated successfully.\n",
      "         Current function value: 0.571100\n",
      "         Iterations 6\n",
      "Sample Size (Distributive Design): 1000\n",
      "Sample Size (Full Factorial Design): 1024\n"
     ]
    },
    {
     "data": {
      "image/png": "[encoded data removed]",
      "text/plain": [
       "<Figure size 1200x600 with 1 Axes>"
      ]
     },
     "metadata": {},
     "output_type": "display_data"
    },
    {
     "name": "stdout",
     "output_type": "stream",
     "text": [
      "## Pros and Cons of Each Design ##\n",
      "Distributive Design:\n",
      "- Lower sample size required\n",
      "- Efficient for testing multiple factors\n",
      "- May miss higher-order interactions\n",
      "Full Factorial Design:\n",
      "- Comprehensive analysis of all interactions\n",
      "- Requires exponentially larger sample size\n",
      "- Less feasible for many predictors\n"
     ]
    }
   ],
   "source": [
    "# Full Factorial Design Simulation\n",
    "# Generate all combinations of predictors (full factorial)\n",
    "from itertools import product\n",
    "\n",
    "# Generate all possible combinations of predictor allocations\n",
    "full_factorial_combinations = list(product([0, 1], repeat=n_predictors))\n",
    "\n",
    "# Create a DataFrame with full factorial combinations\n",
    "full_factorial_data = pd.DataFrame(full_factorial_combinations, columns=predictor_names)\n",
    "\n",
    "# Simulate outcomes for full factorial design\n",
    "full_factorial_data['HeartDiseaseorAttack'] = full_factorial_data.apply(simulate_outcome, axis=1)\n",
    "\n",
    "# Logistic regression for full factorial design\n",
    "full_factorial_model = logit(formula, data=full_factorial_data).fit()\n",
    "\n",
    "# Compare sample sizes\n",
    "distributive_sample_size = len(data)\n",
    "full_factorial_sample_size = len(full_factorial_data)\n",
    "\n",
    "print(f\"Sample Size (Distributive Design): {distributive_sample_size}\")\n",
    "print(f\"Sample Size (Full Factorial Design): {full_factorial_sample_size}\")\n",
    "\n",
    "# Compare coefficients and p-values\n",
    "distributive_coefficients = model.params\n",
    "full_factorial_coefficients = full_factorial_model.params\n",
    "\n",
    "# Plot comparison of coefficients\n",
    "plt.figure(figsize=(12, 6))\n",
    "plt.bar(distributive_coefficients.index, distributive_coefficients.values, alpha=0.7, label='Distributive Design')\n",
    "plt.bar(full_factorial_coefficients.index, full_factorial_coefficients.values, alpha=0.5, label='Full Factorial Design')\n",
    "plt.xticks(rotation=90)\n",
    "plt.title('Coefficient Comparison: Distributive vs Full Factorial Design')\n",
    "plt.ylabel('Coefficient Value')\n",
    "plt.axhline(0, color='red', linestyle='--', linewidth=1)\n",
    "plt.legend()\n",
    "plt.tight_layout()\n",
    "plt.show()\n",
    "\n",
    "# Pros and Cons\n",
    "print(\"## Pros and Cons of Each Design ##\")\n",
    "print(\"Distributive Design:\")\n",
    "print(\"- Lower sample size required\\n- Efficient for testing multiple factors\\n- May miss higher-order interactions\")\n",
    "\n",
    "print(\"Full Factorial Design:\")\n",
    "print(\"- Comprehensive analysis of all interactions\\n- Requires exponentially larger sample size\\n- Less feasible for many predictors\")"
   ]
  },
  {
   "cell_type": "markdown",
   "id": "1ebf2234",
   "metadata": {},
   "source": [
    "## Update Logistic Regression with Kaggle Dataset\n",
    "We will now use the Kaggle dataset's actual features for our analysis."
   ]
  },
  {
   "cell_type": "code",
   "execution_count": 10,
   "id": "31891dab",
   "metadata": {},
   "outputs": [
    {
     "name": "stdout",
     "output_type": "stream",
     "text": [
      "Remaining columns: Index(['Predictor_0', 'Predictor_1', 'Predictor_2', 'Predictor_3',\n",
      "       'Predictor_4', 'Predictor_5', 'Predictor_6', 'Predictor_7',\n",
      "       'Predictor_8', 'Predictor_9'],\n",
      "      dtype='object')\n",
      "Dataset shape: (1000, 10)\n",
      "Optimization terminated successfully.\n",
      "         Current function value: 0.598629\n",
      "         Iterations 5\n",
      "                            Logit Regression Results                            \n",
      "================================================================================\n",
      "Dep. Variable:     HeartDiseaseorAttack   No. Observations:                 1000\n",
      "Model:                            Logit   Df Residuals:                      990\n",
      "Method:                             MLE   Df Model:                            9\n",
      "Date:                  Mon, 18 Nov 2024   Pseudo R-squ.:                 0.04845\n",
      "Time:                          22:03:43   Log-Likelihood:                -598.63\n",
      "converged:                         True   LL-Null:                       -629.11\n",
      "Covariance Type:              nonrobust   LLR p-value:                 8.740e-10\n",
      "===============================================================================\n",
      "                  coef    std err          z      P>|z|      [0.025      0.975]\n",
      "-------------------------------------------------------------------------------\n",
      "Predictor_0     0.9035      0.129      7.004      0.000       0.651       1.156\n",
      "Predictor_1    -0.0165      0.127     -0.130      0.896      -0.265       0.232\n",
      "Predictor_2     0.0090      0.127      0.071      0.943      -0.239       0.257\n",
      "Predictor_3     0.6453      0.130      4.967      0.000       0.391       0.900\n",
      "Predictor_4     0.1428      0.127      1.121      0.262      -0.107       0.392\n",
      "Predictor_5    -0.1215      0.126     -0.962      0.336      -0.369       0.126\n",
      "Predictor_6     0.1172      0.127      0.924      0.356      -0.132       0.366\n",
      "Predictor_7    -0.0518      0.127     -0.408      0.683      -0.301       0.197\n",
      "Predictor_8    -0.0671      0.127     -0.530      0.596      -0.315       0.181\n",
      "Predictor_9     0.0196      0.127      0.154      0.878      -0.230       0.269\n",
      "===============================================================================\n"
     ]
    }
   ],
   "source": [
    "# Define features and target\n",
    "kaggle_features = ['Predictor_0', 'Predictor_1', 'Predictor_2', 'Predictor_3',\n",
    "       'Predictor_4', 'Predictor_5', 'Predictor_6', 'Predictor_7',\n",
    "       'Predictor_8', 'Predictor_9']\n",
    "X = data[kaggle_features]\n",
    "y = data['HeartDiseaseorAttack']\n",
    "\n",
    "# Add a constant term for the intercept\n",
    "X = sm.add_constant(X)\n",
    "\n",
    "# Remove constant columns\n",
    "X = X.loc[:, (X != X.iloc[0]).any()]\n",
    "\n",
    "# Check and remove highly correlated columns\n",
    "correlation_matrix = X.corr()\n",
    "correlation_threshold = 0.95\n",
    "correlated_pairs = set()\n",
    "for i in range(len(correlation_matrix.columns)):\n",
    "    for j in range(i):\n",
    "        if abs(correlation_matrix.iloc[i, j]) > correlation_threshold:\n",
    "            correlated_pairs.add(correlation_matrix.columns[i])\n",
    "X = X.drop(columns=correlated_pairs)\n",
    "\n",
    "# Check for any further issues in the data\n",
    "print(\"Remaining columns:\", X.columns)\n",
    "print(\"Dataset shape:\", X.shape)\n",
    "\n",
    "# Fit the logistic regression model\n",
    "model = sm.Logit(y, X).fit()\n",
    "print(model.summary())\n"
   ]
  },
  {
   "cell_type": "markdown",
   "id": "a840df21",
   "metadata": {},
   "source": [
    "## Performance and Efficiency Comparison: Distributive vs Full Factorial Design\n",
    "We will compare the performance (model fit and accuracy) and efficiency (sample size required) of the two designs using the Kaggle dataset."
   ]
  },
  {
   "cell_type": "code",
   "execution_count": 11,
   "id": "a1cce683",
   "metadata": {},
   "outputs": [
    {
     "name": "stdout",
     "output_type": "stream",
     "text": [
      "Optimization terminated successfully.\n",
      "         Current function value: 0.607502\n",
      "         Iterations 5\n",
      "Optimization terminated successfully.\n",
      "         Current function value: 0.589576\n",
      "         Iterations 10\n",
      "Sample Size (Distributive Design): 350\n",
      "Sample Size (Full Factorial Design): 700\n",
      "Accuracy (Distributive Design): 0.65\n",
      "Accuracy (Full Factorial Design): 0.65\n"
     ]
    },
    {
     "data": {
      "image/png": "[encoded data removed]",
      "text/plain": [
       "<Figure size 1200x600 with 1 Axes>"
      ]
     },
     "metadata": {},
     "output_type": "display_data"
    }
   ],
   "source": [
    "# Comparison Metrics\n",
    "from sklearn.metrics import accuracy_score\n",
    "from sklearn.model_selection import train_test_split\n",
    "\n",
    "# Train-test split for the dataset\n",
    "X = data[kaggle_features]\n",
    "y = data['HeartDiseaseorAttack']\n",
    "X_train, X_test, y_train, y_test = train_test_split(X, y, test_size=0.3, random_state=42)\n",
    "\n",
    "# Fit logistic regression for distributive design (random sampling of features)\n",
    "distributive_data = X_train.sample(frac=0.5, random_state=42)  # Sample subset of features for distributive design\n",
    "distributive_data['HeartDiseaseorAttack'] = y_train.loc[distributive_data.index]\n",
    "distributive_formula = \"HeartDiseaseorAttack ~ \" + \" + \".join(distributive_data.columns[:-1])\n",
    "distributive_model = logit(distributive_formula, data=distributive_data).fit()\n",
    "\n",
    "# Fit logistic regression for full factorial design\n",
    "full_factorial_data = X_train\n",
    "full_factorial_data['HeartDiseaseorAttack'] = y_train\n",
    "full_factorial_formula = \"HeartDiseaseorAttack ~ \" + \" + \".join(full_factorial_data.columns[:-1])\n",
    "full_factorial_model = logit(full_factorial_formula, data=full_factorial_data).fit()\n",
    "\n",
    "# Predict and calculate accuracy for both models\n",
    "distributive_preds = distributive_model.predict(X_test)\n",
    "distributive_preds_binary = (distributive_preds > 0.5).astype(int)\n",
    "distributive_accuracy = accuracy_score(y_test, distributive_preds_binary)\n",
    "\n",
    "full_factorial_preds = full_factorial_model.predict(X_test)\n",
    "full_factorial_preds_binary = (full_factorial_preds > 0.5).astype(int)\n",
    "full_factorial_accuracy = accuracy_score(y_test, full_factorial_preds_binary)\n",
    "\n",
    "# Compare sample size, coefficients, and accuracy\n",
    "distributive_sample_size = len(distributive_data)\n",
    "full_factorial_sample_size = len(full_factorial_data)\n",
    "\n",
    "print(f\"Sample Size (Distributive Design): {distributive_sample_size}\")\n",
    "print(f\"Sample Size (Full Factorial Design): {full_factorial_sample_size}\")\n",
    "print(f\"Accuracy (Distributive Design): {distributive_accuracy:.2f}\")\n",
    "print(f\"Accuracy (Full Factorial Design): {full_factorial_accuracy:.2f}\")\n",
    "\n",
    "# Plot the coefficients comparison\n",
    "distributive_coefficients = distributive_model.params\n",
    "full_factorial_coefficients = full_factorial_model.params\n",
    "\n",
    "plt.figure(figsize=(12, 6))\n",
    "plt.bar(distributive_coefficients.index, distributive_coefficients.values, alpha=0.7, label='Distributive Design')\n",
    "plt.bar(full_factorial_coefficients.index, full_factorial_coefficients.values, alpha=0.5, label='Full Factorial Design')\n",
    "plt.xticks(rotation=90)\n",
    "plt.title('Coefficient Comparison: Distributive vs Full Factorial Design')\n",
    "plt.ylabel('Coefficient Value')\n",
    "plt.axhline(0, color='red', linestyle='--', linewidth=1)\n",
    "plt.legend()\n",
    "plt.tight_layout()\n",
    "plt.show()"
   ]
  },
  {
   "cell_type": "markdown",
   "id": "eb715814",
   "metadata": {},
   "source": [
    "## Performance Metrics Comparison\n",
    "We will evaluate and compare the performance metrics of the distributive design and the full factorial design, including accuracy and efficiency."
   ]
  },
  {
   "cell_type": "code",
   "execution_count": 12,
   "id": "1d2f245f",
   "metadata": {},
   "outputs": [
    {
     "name": "stdout",
     "output_type": "stream",
     "text": [
      "## Distributive Design Metrics ##\n",
      "Accuracy: 0.65\n",
      "Precision: 0.65\n",
      "Recall: 1.00\n",
      "F1 Score: 0.79\n",
      "\n",
      "## Full Factorial Design Metrics ##\n",
      "Accuracy: 0.65\n",
      "Precision: 0.66\n",
      "Recall: 0.95\n",
      "F1 Score: 0.78\n",
      "\n",
      "Sample Sizes:\n",
      "Distributive Design: 350\n",
      "Full Factorial Design: 700\n"
     ]
    }
   ],
   "source": [
    "# Compare Performance Metrics\n",
    "from sklearn.metrics import accuracy_score, precision_score, recall_score, f1_score\n",
    "\n",
    "# Predictions for distributive design\n",
    "distributive_preds = distributive_model.predict(X_test)\n",
    "distributive_preds_binary = (distributive_preds > 0.5).astype(int)\n",
    "\n",
    "# Predictions for full factorial design\n",
    "full_factorial_preds = full_factorial_model.predict(X_test)\n",
    "full_factorial_preds_binary = (full_factorial_preds > 0.5).astype(int)\n",
    "\n",
    "# Compute performance metrics\n",
    "metrics = {\n",
    "    'Accuracy': accuracy_score,\n",
    "    'Precision': precision_score,\n",
    "    'Recall': recall_score,\n",
    "    'F1 Score': f1_score\n",
    "}\n",
    "\n",
    "print(\"## Distributive Design Metrics ##\")\n",
    "for metric, func in metrics.items():\n",
    "    print(f\"{metric}: {func(y_test, distributive_preds_binary):.2f}\")\n",
    "\n",
    "print(\"\\n## Full Factorial Design Metrics ##\")\n",
    "for metric, func in metrics.items():\n",
    "    print(f\"{metric}: {func(y_test, full_factorial_preds_binary):.2f}\")\n",
    "\n",
    "# Compare sample sizes\n",
    "print(\"\\nSample Sizes:\")\n",
    "print(f\"Distributive Design: {len(distributive_data)}\")\n",
    "print(f\"Full Factorial Design: {len(full_factorial_data)}\")"
   ]
  },
  {
   "cell_type": "code",
   "execution_count": null,
   "id": "3cc6fae0",
   "metadata": {},
   "outputs": [
    {
     "name": "stdout",
     "output_type": "stream",
     "text": [
      "Warning: Maximum number of iterations has been exceeded.\n",
      "         Current function value: 0.598629\n",
      "         Iterations: 35\n",
      "                            Logit Regression Results                            \n",
      "================================================================================\n",
      "Dep. Variable:     HeartDiseaseorAttack   No. Observations:                 1000\n",
      "Model:                            Logit   Df Residuals:                      989\n",
      "Method:                             MLE   Df Model:                           10\n",
      "Date:                  Mon, 18 Nov 2024   Pseudo R-squ.:                 0.04845\n",
      "Time:                          23:21:18   Log-Likelihood:                -598.63\n",
      "converged:                        False   LL-Null:                       -629.11\n",
      "Covariance Type:              nonrobust   LLR p-value:                 2.381e-09\n",
      "===============================================================================\n",
      "                  coef    std err          z      P>|z|      [0.025      0.975]\n",
      "-------------------------------------------------------------------------------\n",
      "const           0.2258        nan        nan        nan         nan         nan\n",
      "Predictor_0     0.8583        nan        nan        nan         nan         nan\n",
      "Predictor_1    -0.0617        nan        nan        nan         nan         nan\n",
      "Predictor_2    -0.0362        nan        nan        nan         nan         nan\n",
      "Predictor_3     0.6001        nan        nan        nan         nan         nan\n",
      "Predictor_4     0.0976        nan        nan        nan         nan         nan\n",
      "Predictor_5    -0.1666        nan        nan        nan         nan         nan\n",
      "Predictor_6     0.0721        nan        nan        nan         nan         nan\n",
      "Predictor_7    -0.0969        nan        nan        nan         nan         nan\n",
      "Predictor_8    -0.1122        nan        nan        nan         nan         nan\n",
      "Predictor_9    -0.0256        nan        nan        nan         nan         nan\n",
      "===============================================================================\n"
     ]
    },
    {
     "name": "stderr",
     "output_type": "stream",
     "text": [
      "c:\\Users\\ssjed\\AppData\\Local\\Programs\\Python\\Python312\\Lib\\site-packages\\statsmodels\\base\\model.py:607: ConvergenceWarning: Maximum Likelihood optimization failed to converge. Check mle_retvals\n",
      "  warnings.warn(\"Maximum Likelihood optimization failed to \"\n"
     ]
    },
    {
     "ename": "",
     "evalue": "",
     "output_type": "error",
     "traceback": [
      "\u001b[1;31mThe Kernel crashed while executing code in the current cell or a previous cell. \n",
      "\u001b[1;31mPlease review the code in the cell(s) to identify a possible cause of the failure. \n",
      "\u001b[1;31mClick <a href='https://aka.ms/vscodeJupyterKernelCrash'>here</a> for more info. \n",
      "\u001b[1;31mView Jupyter <a href='command:jupyter.viewOutput'>log</a> for further details."
     ]
    }
   ],
   "source": [
    "import statsmodels.api as sm\n",
    "\n",
    "# Add a constant term for the intercept\n",
    "X = sm.add_constant(X)\n",
    "\n",
    "# Fit the logistic regression model\n",
    "logit_model = sm.Logit(y, X).fit()\n",
    "\n",
    "# Print the summary of the model\n",
    "print(logit_model.summary())"
   ]
  }
 ],
 "metadata": {
  "kernelspec": {
   "display_name": "Python 3",
   "language": "python",
   "name": "python3"
  },
  "language_info": {
   "codemirror_mode": {
    "name": "ipython",
    "version": 3
   },
   "file_extension": ".py",
   "mimetype": "text/x-python",
   "name": "python",
   "nbconvert_exporter": "python",
   "pygments_lexer": "ipython3",
   "version": "3.12.5"
  }
 },
 "nbformat": 4,
 "nbformat_minor": 5
}
